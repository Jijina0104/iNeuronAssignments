{
 "cells": [
  {
   "cell_type": "markdown",
   "id": "d69551a4",
   "metadata": {},
   "source": [
    "# Question 1"
   ]
  },
  {
   "cell_type": "markdown",
   "id": "a9d95851",
   "metadata": {},
   "source": [
    "What exactly is []?"
   ]
  },
  {
   "cell_type": "markdown",
   "id": "f7d86430",
   "metadata": {},
   "source": [
    "Answer: \n",
    "\n",
    "It denotes an empty list."
   ]
  },
  {
   "cell_type": "markdown",
   "id": "2bec79f6",
   "metadata": {},
   "source": [
    "# Question 2"
   ]
  },
  {
   "cell_type": "markdown",
   "id": "39d2a5d4",
   "metadata": {},
   "source": [
    "In a list of values stored in a variable called spam, how would you assign the value 'hello' as the third value? (Assume [2, 4, 6, 8, 10] are in spam.) \n"
   ]
  },
  {
   "cell_type": "code",
   "execution_count": 21,
   "id": "dfda3456",
   "metadata": {},
   "outputs": [
    {
     "data": {
      "text/plain": [
       "[2, 4, 'hello', 8, 10]"
      ]
     },
     "execution_count": 21,
     "metadata": {},
     "output_type": "execute_result"
    }
   ],
   "source": [
    "#Answer:\n",
    "\n",
    "spam = [2, 4, 6, 8, 10]\n",
    "spam[2] = 'hello' #insert the third value 'hello' at the index 2 of the list.\n",
    "spam"
   ]
  },
  {
   "cell_type": "markdown",
   "id": "b035493e",
   "metadata": {},
   "source": [
    "Let's pretend the spam includes the list ['a', 'b', 'c', 'd'] for the next three queries."
   ]
  },
  {
   "cell_type": "markdown",
   "id": "b185ae43",
   "metadata": {},
   "source": [
    "# Question 3"
   ]
  },
  {
   "cell_type": "markdown",
   "id": "4335da0d",
   "metadata": {},
   "source": [
    "What is the value of spam[int(int('3' * 2) / 11)]?"
   ]
  },
  {
   "cell_type": "code",
   "execution_count": 3,
   "id": "c05dda90",
   "metadata": {},
   "outputs": [
    {
     "data": {
      "text/plain": [
       "'d'"
      ]
     },
     "execution_count": 3,
     "metadata": {},
     "output_type": "execute_result"
    }
   ],
   "source": [
    "#Answer: 'd'\n",
    "# '3' * 2 is evaluated to 33, it is formatted to integer using int(). \n",
    "# Then, 33 / 11 is evaluated to 3. Hence, spam[3] would be 'd'.\n",
    "\n",
    "spam = ['a', 'b', 'c', 'd']\n",
    "spam[int(int('3' * 2) / 11)] "
   ]
  },
  {
   "cell_type": "markdown",
   "id": "27bc165a",
   "metadata": {},
   "source": [
    "# Question 4"
   ]
  },
  {
   "cell_type": "markdown",
   "id": "547742ea",
   "metadata": {},
   "source": [
    "What is the value of spam[-1]?"
   ]
  },
  {
   "cell_type": "code",
   "execution_count": 4,
   "id": "63131a33",
   "metadata": {},
   "outputs": [
    {
     "data": {
      "text/plain": [
       "'d'"
      ]
     },
     "execution_count": 4,
     "metadata": {},
     "output_type": "execute_result"
    }
   ],
   "source": [
    "#Answer : 'd' \n",
    "# -1 displays the last index value of the list \n",
    "\n",
    "spam[-1] # refers to list in Question 3"
   ]
  },
  {
   "cell_type": "markdown",
   "id": "d9316e09",
   "metadata": {},
   "source": [
    "# Question 5"
   ]
  },
  {
   "cell_type": "markdown",
   "id": "b794d5f2",
   "metadata": {},
   "source": [
    "What is the value of spam[:2]?"
   ]
  },
  {
   "cell_type": "code",
   "execution_count": 5,
   "id": "11c657fe",
   "metadata": {},
   "outputs": [
    {
     "data": {
      "text/plain": [
       "['a', 'b']"
      ]
     },
     "execution_count": 5,
     "metadata": {},
     "output_type": "execute_result"
    }
   ],
   "source": [
    "#Answer: ['a', 'b']\n",
    "# [:2] In this range of list, the first index defaults to 0, which is inclusive and the last index provided is 2, which is exclusive.\n",
    "\n",
    "spam[:2]"
   ]
  },
  {
   "cell_type": "markdown",
   "id": "edf2541e",
   "metadata": {},
   "source": [
    "Let's pretend bacon has the list [3.14, 'cat,' 11, 'cat,' True] for the next three questions."
   ]
  },
  {
   "cell_type": "markdown",
   "id": "3f3c9fe5",
   "metadata": {},
   "source": [
    "# Question 6"
   ]
  },
  {
   "cell_type": "markdown",
   "id": "b5c84a37",
   "metadata": {},
   "source": [
    "What is the value of bacon.index('cat')?"
   ]
  },
  {
   "cell_type": "code",
   "execution_count": 22,
   "id": "0752e68c",
   "metadata": {},
   "outputs": [
    {
     "data": {
      "text/plain": [
       "1"
      ]
     },
     "execution_count": 22,
     "metadata": {},
     "output_type": "execute_result"
    }
   ],
   "source": [
    "#Answer : 1\n",
    "# Displays the index number of first element having the value 'cat'\n",
    "\n",
    "bacon = [3.14, 'cat', 11, 'cat', True]\n",
    "\n",
    "bacon.index('cat')"
   ]
  },
  {
   "cell_type": "markdown",
   "id": "3835f93a",
   "metadata": {},
   "source": [
    "# Question 7"
   ]
  },
  {
   "cell_type": "markdown",
   "id": "90e4bd8c",
   "metadata": {},
   "source": [
    "How does bacon.append(99) change the look of the list value in bacon?"
   ]
  },
  {
   "cell_type": "code",
   "execution_count": 7,
   "id": "8bc4db8a",
   "metadata": {},
   "outputs": [
    {
     "data": {
      "text/plain": [
       "[3.14, 'cat', 11, 'cat', True, 99]"
      ]
     },
     "execution_count": 7,
     "metadata": {},
     "output_type": "execute_result"
    }
   ],
   "source": [
    "#Answer : [3.14, 'cat', 11, 'cat', True, 99]\n",
    "# It appends the value 99 to the end of the list\n",
    "\n",
    "bacon.append(99)\n",
    "bacon"
   ]
  },
  {
   "cell_type": "markdown",
   "id": "fc5cf319",
   "metadata": {},
   "source": [
    "# Question 8"
   ]
  },
  {
   "cell_type": "markdown",
   "id": "7045957c",
   "metadata": {},
   "source": [
    "How does bacon.remove('cat') change the look of the list in bacon?"
   ]
  },
  {
   "cell_type": "code",
   "execution_count": 8,
   "id": "dbab7b2a",
   "metadata": {},
   "outputs": [
    {
     "data": {
      "text/plain": [
       "[3.14, 11, 'cat', True, 99]"
      ]
     },
     "execution_count": 8,
     "metadata": {},
     "output_type": "execute_result"
    }
   ],
   "source": [
    "#Answer : [3.14, 11, 'cat', True, 99]\n",
    "#It removes the first occurrence of the 'cat' value from the list. The second 'cat' value remains in the list.\n",
    "\n",
    "bacon.remove('cat')\n",
    "bacon"
   ]
  },
  {
   "cell_type": "markdown",
   "id": "58e60eac",
   "metadata": {},
   "source": [
    "# Question 9"
   ]
  },
  {
   "cell_type": "markdown",
   "id": "f17b44e2",
   "metadata": {},
   "source": [
    "What are the list concatenation and list replication operators?"
   ]
  },
  {
   "cell_type": "code",
   "execution_count": 9,
   "id": "5cedbba7",
   "metadata": {},
   "outputs": [
    {
     "name": "stdout",
     "output_type": "stream",
     "text": [
      "[1, 2, 3, 5, 6, 7]\n",
      "[1, 2, 3, 1, 2, 3]\n",
      "[1, 2, 1, 2]\n"
     ]
    }
   ],
   "source": [
    "#Answer:\n",
    "# List concatenation(+) : It combines 2 lists to create a single list\n",
    "\n",
    "list1 = [1,2,3]\n",
    "list2 = [5,6,7]\n",
    "list3 = list1 + list2\n",
    "print(list3)\n",
    "list1 = list1 + list1\n",
    "print(list1)\n",
    "\n",
    "# List replication(*) : It replicates the list by number of times specified.\n",
    "\n",
    "list4 = [1,2]\n",
    "list5 = list4 * 2\n",
    "print(list5)"
   ]
  },
  {
   "cell_type": "markdown",
   "id": "a60ce395",
   "metadata": {},
   "source": [
    "# Question 10"
   ]
  },
  {
   "cell_type": "markdown",
   "id": "dc73dc8f",
   "metadata": {},
   "source": [
    "What is difference between the list methods append() and insert()?"
   ]
  },
  {
   "cell_type": "code",
   "execution_count": 10,
   "id": "be12a43d",
   "metadata": {},
   "outputs": [
    {
     "name": "stdout",
     "output_type": "stream",
     "text": [
      "['a', 'b', 'c', 'd']\n",
      "['a', 'b', 'c', 'd', 'e']\n",
      "['a', 'b', 'jiji', 'c', 'd', 'e']\n"
     ]
    }
   ],
   "source": [
    "#Answer:\n",
    "\n",
    "#append() : adds an element to the end of the list\n",
    "list_1 = ['a', 'b', 'c', 'd']\n",
    "print(list_1)\n",
    "list_1.append('e')\n",
    "print(list_1)\n",
    "\n",
    "#insert() : inserts an element to the mentioned index of the list\n",
    "\n",
    "list_1.insert(2,\"jiji\") # inserts the element \"jiji\" at the index postion 2\n",
    "print(list_1)"
   ]
  },
  {
   "cell_type": "markdown",
   "id": "85d03001",
   "metadata": {},
   "source": [
    "# Question 11"
   ]
  },
  {
   "cell_type": "markdown",
   "id": "e0423025",
   "metadata": {},
   "source": [
    "What are the two methods for removing items from a list?"
   ]
  },
  {
   "cell_type": "code",
   "execution_count": 11,
   "id": "6bd73b2c",
   "metadata": {},
   "outputs": [
    {
     "name": "stdout",
     "output_type": "stream",
     "text": [
      "['apple', 'banana', 'grape', 'pineapple', 'mango']\n",
      "['apple', 'banana', 'pineapple', 'mango']\n",
      "['banana', 'pineapple', 'mango']\n"
     ]
    }
   ],
   "source": [
    "#Answer:\n",
    "\n",
    "fruits = ['apple', 'banana', 'grape', 'pineapple', 'mango', 'berries']\n",
    "\n",
    "# pop()\n",
    "fruits.pop() # removes the last element from the list\n",
    "print(fruits)\n",
    "\n",
    "fruits.pop(2) # removes the element at index 2 of the list\n",
    "print(fruits)\n",
    "\n",
    "# remove()  \n",
    "fruits.remove('apple') # removes the first occurrence of the element 'apple' from the list\n",
    "print(fruits)\n",
    "\n",
    "\n",
    "#Note: pop() returns the the removed element from the list where as remove() does not return the removed element"
   ]
  },
  {
   "cell_type": "markdown",
   "id": "63710833",
   "metadata": {},
   "source": [
    "# Question 12"
   ]
  },
  {
   "cell_type": "markdown",
   "id": "1f5bc737",
   "metadata": {},
   "source": [
    "Describe how list values and string values are identical."
   ]
  },
  {
   "cell_type": "markdown",
   "id": "cfa452b1",
   "metadata": {},
   "source": [
    "Answer:\n",
    "\n",
    "- Both lists and strings support indexing, allowing to access individual elements or characters based on their position within the sequence.\n",
    "- Both lists and strings support slicing.\n",
    "- Both lists and strings have a length that can be determined using the built-in len() function.\n"
   ]
  },
  {
   "cell_type": "markdown",
   "id": "82d42db1",
   "metadata": {},
   "source": [
    "# Question 13"
   ]
  },
  {
   "cell_type": "markdown",
   "id": "32575267",
   "metadata": {},
   "source": [
    "What's the difference between tuples and lists?"
   ]
  },
  {
   "cell_type": "markdown",
   "id": "bc3128f7",
   "metadata": {},
   "source": [
    "Answer:\n",
    "\n",
    "- Lists are mutable, meaning you can modify, add, or remove elements after the list is created. Tuples, on the other hand, are immutable, meaning they cannot be modified once created.\n",
    "- Lists are represented using square brackets []. Tuples are represented using parentheses ()."
   ]
  },
  {
   "cell_type": "markdown",
   "id": "43425706",
   "metadata": {},
   "source": [
    "# Question 14"
   ]
  },
  {
   "cell_type": "markdown",
   "id": "ef56b0cd",
   "metadata": {},
   "source": [
    "How do you type a tuple value that only contains the integer 42?"
   ]
  },
  {
   "cell_type": "code",
   "execution_count": 12,
   "id": "69a081c7",
   "metadata": {},
   "outputs": [
    {
     "name": "stdout",
     "output_type": "stream",
     "text": [
      "<class 'int'>\n",
      "<class 'tuple'>\n"
     ]
    }
   ],
   "source": [
    "#Answer: tupledemo2 = (42,)\n",
    "#Tuples elements have to be represented by comma.\n",
    "tupledemo1 = (42)\n",
    "print(type(tupledemo1))\n",
    "\n",
    "tupledemo2 = (42,)\n",
    "print(type(tupledemo2))"
   ]
  },
  {
   "cell_type": "markdown",
   "id": "706f8a32",
   "metadata": {},
   "source": [
    "# Question 15"
   ]
  },
  {
   "cell_type": "markdown",
   "id": "bcdc36de",
   "metadata": {},
   "source": [
    "How do you get a list value's tuple form? How do you get a tuple value's list form?"
   ]
  },
  {
   "cell_type": "code",
   "execution_count": 20,
   "id": "69d70663",
   "metadata": {},
   "outputs": [
    {
     "name": "stdout",
     "output_type": "stream",
     "text": [
      "(1, 2, 3)\n",
      "<class 'tuple'>\n",
      "List form of the tuple (1, 2, 3) is [1, 2, 3]\n",
      "<class 'list'>\n",
      "[4, 5, 6]\n",
      "<class 'list'>\n",
      "Tuple form of the list [4, 5, 6] is (4, 5, 6)\n",
      "<class 'tuple'>\n"
     ]
    }
   ],
   "source": [
    "#To convert the tuple to list, you can use list()\n",
    "tup = (1,2,3)\n",
    "print(tup)\n",
    "print(type(tup))\n",
    "\n",
    "tup_list = list(tup)\n",
    "print(\"List form of the tuple\", tup, \"is\", tup_list)\n",
    "print(type(tup_list))\n",
    "\n",
    "#To convert list to a tuple, you can use tuple()\n",
    "\n",
    "list_2 = [4,5,6]\n",
    "print(list_2)\n",
    "print(type(list_2))\n",
    "\n",
    "list_tup = tuple(list_2)\n",
    "print(\"Tuple form of the list\", list_2, \"is\", list_tup)\n",
    "print(type(list_tup))"
   ]
  },
  {
   "cell_type": "markdown",
   "id": "64113254",
   "metadata": {},
   "source": [
    "# Question 16"
   ]
  },
  {
   "cell_type": "markdown",
   "id": "5175ee4f",
   "metadata": {},
   "source": [
    "Variables that \"contain\" list values are not necessarily lists themselves. Instead, what do they contain?"
   ]
  },
  {
   "cell_type": "markdown",
   "id": "4b352e67",
   "metadata": {},
   "source": [
    "Answer:\n",
    "\n",
    "Variables that \"contain\" list values are not necessarily lists themselves. It holds the reference towards the memory location which holds the actual value of the list element."
   ]
  },
  {
   "cell_type": "markdown",
   "id": "63d5ee76",
   "metadata": {},
   "source": [
    "# Question 17"
   ]
  },
  {
   "cell_type": "markdown",
   "id": "ed544832",
   "metadata": {},
   "source": [
    "How do you distinguish between copy.copy() and copy.deepcopy()?"
   ]
  },
  {
   "cell_type": "markdown",
   "id": "fbb6d91c",
   "metadata": {},
   "source": [
    "#Answer\n",
    "\n",
    "- copy.copy() : creates a reference to the orginal data including the nested objects. Any modifications performed on the original list after the operation copy.copy(), will be reflected in the copied list as well.\n",
    "\n",
    "- copy.deepcopy() : creates a complete separate copy of data with all nested objects. Hence, any modifications performed on the original data after the copy.deepcopy() will not impact the value of data in the copied object."
   ]
  },
  {
   "cell_type": "code",
   "execution_count": null,
   "id": "d03d4c35",
   "metadata": {},
   "outputs": [],
   "source": []
  }
 ],
 "metadata": {
  "kernelspec": {
   "display_name": "Python 3 (ipykernel)",
   "language": "python",
   "name": "python3"
  },
  "language_info": {
   "codemirror_mode": {
    "name": "ipython",
    "version": 3
   },
   "file_extension": ".py",
   "mimetype": "text/x-python",
   "name": "python",
   "nbconvert_exporter": "python",
   "pygments_lexer": "ipython3",
   "version": "3.10.9"
  }
 },
 "nbformat": 4,
 "nbformat_minor": 5
}

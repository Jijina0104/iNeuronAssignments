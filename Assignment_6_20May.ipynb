{
 "cells": [
  {
   "cell_type": "markdown",
   "id": "027c5411",
   "metadata": {},
   "source": [
    "# Question 9"
   ]
  },
  {
   "cell_type": "code",
   "execution_count": 1,
   "id": "a9312157",
   "metadata": {},
   "outputs": [
    {
     "data": {
      "text/plain": [
       "'\\nWrite a code to create the given structure using only for loop. <br>\\n    * \\n   *** \\n  ***** \\n ******* \\n********* \\n'"
      ]
     },
     "execution_count": 1,
     "metadata": {},
     "output_type": "execute_result"
    }
   ],
   "source": [
    "'''\n",
    "Write a code to create the given structure using only for loop. <br>\n",
    "    * \n",
    "   *** \n",
    "  ***** \n",
    " ******* \n",
    "********* \n",
    "'''"
   ]
  },
  {
   "cell_type": "code",
   "execution_count": 74,
   "id": "b7869c4b",
   "metadata": {},
   "outputs": [
    {
     "name": "stdout",
     "output_type": "stream",
     "text": [
      "    *\n",
      "   ***\n",
      "  *****\n",
      " *******\n",
      "*********\n"
     ]
    }
   ],
   "source": [
    "row = 5\n",
    "space = row-1\n",
    "for i in range(row):\n",
    "    for j in range(space,0,-1):\n",
    "        print(\" \",end=\"\")\n",
    "    for k in range(0,(2*i)+1):\n",
    "        print(\"*\",end=\"\")\n",
    "    space-=1\n",
    "    print()"
   ]
  },
  {
   "cell_type": "code",
   "execution_count": 73,
   "id": "1dc80720",
   "metadata": {},
   "outputs": [
    {
     "name": "stdout",
     "output_type": "stream",
     "text": [
      "    *\n",
      "   ***\n",
      "  *****\n",
      " *******\n",
      "*********\n"
     ]
    }
   ],
   "source": [
    "row=5\n",
    "for i in range(row):\n",
    "    print(\" \"*(row-i-1) + \"*\"*(2*i+1))"
   ]
  },
  {
   "cell_type": "code",
   "execution_count": 5,
   "id": "1133ae89",
   "metadata": {},
   "outputs": [
    {
     "name": "stdout",
     "output_type": "stream",
     "text": [
      "    *     \n",
      "   ***    \n",
      "  *****   \n",
      " *******  \n",
      "********* \n"
     ]
    }
   ],
   "source": [
    "row =5\n",
    "for i in range(1,row*2,2):\n",
    "    print((\"*\"*i).center(row*2))"
   ]
  },
  {
   "cell_type": "markdown",
   "id": "8ff302cd",
   "metadata": {},
   "source": [
    "# Question 10"
   ]
  },
  {
   "cell_type": "code",
   "execution_count": null,
   "id": "d01b9946",
   "metadata": {},
   "outputs": [],
   "source": [
    "'''\n",
    "Write a code to create the given structure using while loop.\n",
    "|||||||||\n",
    " |||||||\n",
    "  |||||\n",
    "   |||\n",
    "    |\n",
    "'''"
   ]
  },
  {
   "cell_type": "code",
   "execution_count": 11,
   "id": "932676c4",
   "metadata": {},
   "outputs": [
    {
     "name": "stdout",
     "output_type": "stream",
     "text": [
      "|||||||||\n",
      " |||||||\n",
      "  |||||\n",
      "   |||\n",
      "    |\n",
      "\n"
     ]
    }
   ],
   "source": [
    "row = 5\n",
    "space = 0\n",
    "while row>=1:\n",
    "    print(\" \"*space, end=\"\")\n",
    "    print(\"|\"*(2*row-1))   \n",
    "    row-=1\n",
    "    space+=1\n",
    "print()"
   ]
  },
  {
   "cell_type": "code",
   "execution_count": 23,
   "id": "d6dc111c",
   "metadata": {},
   "outputs": [
    {
     "name": "stdout",
     "output_type": "stream",
     "text": [
      "||||||||| \n",
      " |||||||  \n",
      "  |||||   \n",
      "   |||    \n",
      "    |     \n"
     ]
    }
   ],
   "source": [
    "row = 5\n",
    "while row>=1:\n",
    "    print((\"|\"*(2*row-1)).center(10))   \n",
    "    row-=1"
   ]
  },
  {
   "cell_type": "code",
   "execution_count": null,
   "id": "0c482199",
   "metadata": {},
   "outputs": [],
   "source": []
  }
 ],
 "metadata": {
  "kernelspec": {
   "display_name": "Python 3 (ipykernel)",
   "language": "python",
   "name": "python3"
  },
  "language_info": {
   "codemirror_mode": {
    "name": "ipython",
    "version": 3
   },
   "file_extension": ".py",
   "mimetype": "text/x-python",
   "name": "python",
   "nbconvert_exporter": "python",
   "pygments_lexer": "ipython3",
   "version": "3.10.9"
  }
 },
 "nbformat": 4,
 "nbformat_minor": 5
}

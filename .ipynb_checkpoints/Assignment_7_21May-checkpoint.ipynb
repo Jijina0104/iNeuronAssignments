{
 "cells": [
  {
   "cell_type": "markdown",
   "id": "f7f99e77",
   "metadata": {},
   "source": [
    "# Question 1"
   ]
  },
  {
   "cell_type": "markdown",
   "id": "a5e426ab",
   "metadata": {},
   "source": [
    "Create two int type variables, apply addition, subtraction, division and multiplications and store the results in variables. <br> Then print the data in the following format by calling the variables: First variable is __ & second variable is __. <br>\n",
    "Addition: __ + __ = __\n",
    "Subtraction: __ - __ = __\n",
    "Multiplication: __ * __ = __\n",
    "Division: __ / __ = __"
   ]
  },
  {
   "cell_type": "code",
   "execution_count": 10,
   "id": "97325091",
   "metadata": {},
   "outputs": [
    {
     "name": "stdout",
     "output_type": "stream",
     "text": [
      "Enter First number:10\n",
      "Enter Second number2\n",
      "First variable is 10 & second variable is 2\n",
      "Addition: 10 + 2 = 12\n",
      "Subtraction: 10 - 2 = 8\n",
      "Multiplication: 10 * 2 = 20\n",
      "Division: 10 / 2 = 5\n"
     ]
    }
   ],
   "source": [
    "num1 = int(input(\"Enter First number:\"))\n",
    "num2 = int(input(\"Enter Second number\"))\n",
    "add = num1 + num2\n",
    "sub = num1 - num2\n",
    "div = num1 / num2\n",
    "mul = num1 * num2\n",
    "print(f\"First variable is {num1} & second variable is {num2}\" )\n",
    "print(f\"Addition: {num1} + {num2} = {int(add)}\")\n",
    "print(f\"Subtraction: {num1} - {num2} = {int(sub)}\")\n",
    "print(f\"Multiplication: {num1} * {num2} = {int(mul)}\")\n",
    "print(f\"Division: {num1} / {num2} = {int(div)}\")"
   ]
  },
  {
   "cell_type": "markdown",
   "id": "91e3a1d1",
   "metadata": {},
   "source": [
    "# Question 2"
   ]
  },
  {
   "cell_type": "markdown",
   "id": "fe070d87",
   "metadata": {},
   "source": [
    "What is the difference between the following operators: <br>\n",
    "(i) ‘/’ & ‘//’ <br>\n",
    "(ii) ‘**’ & ‘^’"
   ]
  },
  {
   "cell_type": "code",
   "execution_count": 14,
   "id": "0b2b695d",
   "metadata": {},
   "outputs": [
    {
     "name": "stdout",
     "output_type": "stream",
     "text": [
      "3.6666666666666665\n",
      "3\n",
      "33\n",
      "1331\n"
     ]
    }
   ],
   "source": [
    "'''\n",
    "(i) ‘/’ & ‘//’\n",
    "    - '/' is a division operator and '//' is floor division operator, which round the result to nearest whole number\n",
    "(ii) ‘**’ & ‘^’ \n",
    "    - '**' is an exponential operator and '*' is division operator\n",
    "'''\n",
    "\n",
    "x = 11\n",
    "y = 3\n",
    "print(x / y)\n",
    "print(x // y)\n",
    "\n",
    "print(x * y) # 11 * 3\n",
    "print(x ** y) # 11*11*11"
   ]
  },
  {
   "cell_type": "markdown",
   "id": "273a8290",
   "metadata": {},
   "source": [
    "# Question 3"
   ]
  },
  {
   "cell_type": "markdown",
   "id": "7b3b68b1",
   "metadata": {},
   "source": [
    "List the logical operators."
   ]
  },
  {
   "cell_type": "markdown",
   "id": "b6093de0",
   "metadata": {},
   "source": [
    "Answer:\n",
    "\n",
    "and : Logical AND <br>\n",
    "or  : Logical OR <br>\n",
    "not : Logical NOT \n"
   ]
  },
  {
   "cell_type": "markdown",
   "id": "85675aba",
   "metadata": {},
   "source": [
    "# Question 4"
   ]
  },
  {
   "cell_type": "markdown",
   "id": "0d334122",
   "metadata": {},
   "source": [
    "Explain right shift operator and left shift operator with examples."
   ]
  },
  {
   "cell_type": "code",
   "execution_count": 2,
   "id": "aaf5b84c",
   "metadata": {},
   "outputs": [
    {
     "name": "stdout",
     "output_type": "stream",
     "text": [
      "3\n",
      "56\n"
     ]
    }
   ],
   "source": [
    "'''\n",
    "<<\tleft shift\tThe left operand’s bit value is moved toward left by the number of bits specified by the right operand\n",
    ">>\tright shift\tThe left operand’s value is moved toward right by the number of bits specified by the right operand.\n",
    "'''\n",
    "\n",
    "a = 14 # 1110\n",
    "b = a >> 2 #shifts the last 2 bits to the right, resulting the bit value to be 011\n",
    "print(b)\n",
    "\n",
    "c = a << 2 # adds 2 zeros to the end shifting the bits to 2 position to the left and value would be 111000\n",
    "print(c)"
   ]
  },
  {
   "cell_type": "markdown",
   "id": "8a135ccd",
   "metadata": {},
   "source": [
    "# Question 5"
   ]
  },
  {
   "cell_type": "markdown",
   "id": "3b5d3195",
   "metadata": {},
   "source": [
    "Create a list containing int type data of length 15. Then write a code to check if 10 is\n",
    "present in the list or not."
   ]
  },
  {
   "cell_type": "code",
   "execution_count": 7,
   "id": "cf317d42",
   "metadata": {},
   "outputs": [
    {
     "name": "stdout",
     "output_type": "stream",
     "text": [
      "14\n",
      "Value 10 is present in the list\n"
     ]
    }
   ],
   "source": [
    "list1 = [2,3,7,10,1,5,1,3,7,9,34,20,2,7]\n",
    "print(len(list1))\n",
    "if 10 in list1:\n",
    "    print(\"Value 10 is present in the list\")\n",
    "else:\n",
    "    print(\"Value 10 is not present in the list\")"
   ]
  },
  {
   "cell_type": "code",
   "execution_count": null,
   "id": "753b81f7",
   "metadata": {},
   "outputs": [],
   "source": []
  }
 ],
 "metadata": {
  "kernelspec": {
   "display_name": "Python 3 (ipykernel)",
   "language": "python",
   "name": "python3"
  },
  "language_info": {
   "codemirror_mode": {
    "name": "ipython",
    "version": 3
   },
   "file_extension": ".py",
   "mimetype": "text/x-python",
   "name": "python",
   "nbconvert_exporter": "python",
   "pygments_lexer": "ipython3",
   "version": "3.10.9"
  }
 },
 "nbformat": 4,
 "nbformat_minor": 5
}

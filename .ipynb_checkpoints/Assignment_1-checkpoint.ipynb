{
 "cells": [
  {
   "cell_type": "markdown",
   "id": "0cd98b1f",
   "metadata": {},
   "source": [
    "# Question 1"
   ]
  },
  {
   "cell_type": "markdown",
   "id": "666b6011",
   "metadata": {},
   "source": [
    "In the below elements which of them are values or an expression? eg:- values can be integer or string and expressions\n",
    "will be mathematical operators.\n",
    "*\n",
    "'hello'\n",
    "-87.8\n",
    "-\n",
    "/\n",
    "+\n",
    "6"
   ]
  },
  {
   "cell_type": "markdown",
   "id": "d2d83ba6",
   "metadata": {},
   "source": [
    "Answer:\n",
    "\n",
    "Values:  'hello' , -87.8, 6\n",
    "Expressions: * - / +"
   ]
  },
  {
   "cell_type": "markdown",
   "id": "18e6f03f",
   "metadata": {},
   "source": [
    "# Question 2"
   ]
  },
  {
   "cell_type": "markdown",
   "id": "2d27a068",
   "metadata": {},
   "source": [
    "What is the difference between string and variable?"
   ]
  },
  {
   "cell_type": "code",
   "execution_count": 1,
   "id": "cb9743b1",
   "metadata": {},
   "outputs": [
    {
     "name": "stdout",
     "output_type": "stream",
     "text": [
      "Ranjith\n"
     ]
    }
   ],
   "source": [
    "'''\n",
    "Answer: \n",
    "\n",
    "Variables: Variable is a name given to a data object to store its value in the memory.\n",
    "String: String is one of the data types or objects, which represents a sequence of character or text data enclosed within \n",
    "quotes\n",
    "    \n",
    "'''\n",
    "name = \"Jijina\"\n",
    "name = \"Ranjith\"\n",
    "\n",
    "'''\n",
    "In the above example, the string variable 'name' holds the value \"Jijina\", when the first assignment instruction is executed. \n",
    "When the second assignment statement is executed, it creates a new string variable 'name' with value \"Ranjith\". \n",
    "That means value of existing string variable cannot be changed ex. Jijina cannot be changed to Vijina by using operations \n",
    "such as name[0]='V'. It replaces the entire string value by recreating the object itself.\n",
    "''' \n",
    "\n",
    "print(name)"
   ]
  },
  {
   "cell_type": "markdown",
   "id": "bdc63bd2",
   "metadata": {},
   "source": [
    "# Question 3"
   ]
  },
  {
   "cell_type": "markdown",
   "id": "92ebc4b3",
   "metadata": {},
   "source": [
    "Describe three different data types."
   ]
  },
  {
   "cell_type": "markdown",
   "id": "4e804c24",
   "metadata": {},
   "source": [
    "Answer:\n",
    "\n",
    "int: Data type to store value of integer. ex: 77\n",
    "str: String Data type to store text data within double quotes \"\". ex: \"77rocks\"\n",
    "float: Data type to store float values. ex: 7.777\n",
    "list: Ordered collection of items. ex: fruits = [mango, apple, banana]. It is mutable and can hold heterogeneous data\n",
    "tuples: Ordered collection of items. ex. fruits = (mango, apple, banana). It is immutable and hold heterogeneous data\n",
    "dictionary: Unordered collection of key value pair {\"name\": \"jijina\", \"age\": 7}. Key is immutable and value is mutable\n",
    "set: Unordered list of heterogeneous data where every element is unique. It does not allow dublicate items."
   ]
  },
  {
   "cell_type": "markdown",
   "id": "458684ef",
   "metadata": {},
   "source": [
    "# Question 4"
   ]
  },
  {
   "cell_type": "markdown",
   "id": "0fd1f004",
   "metadata": {},
   "source": [
    "What is an expression made up of? What do all expressions do?"
   ]
  },
  {
   "cell_type": "markdown",
   "id": "cfacf579",
   "metadata": {},
   "source": [
    "Answer: \n",
    "An expression is a combination of operators and operands, which evaluates to a value.\n",
    "The expression is evaluated as per the precedence of the operator."
   ]
  },
  {
   "cell_type": "markdown",
   "id": "45a918d8",
   "metadata": {},
   "source": [
    "# Question 5"
   ]
  },
  {
   "cell_type": "markdown",
   "id": "404dd5d0",
   "metadata": {},
   "source": [
    "This assignment statements, like spam = 10. What is the difference between an expression and a statement?"
   ]
  },
  {
   "cell_type": "markdown",
   "id": "ae40d061",
   "metadata": {},
   "source": [
    "Answer:\n",
    "Spam = 10 is an assignment statement which assigns the integer value 10 to the variable 'Spam'. \n",
    "Spam == 10 is an expression for equality check. If the value of variable 'Spam' equals 10, it returns the value True else it returns the value False.\n"
   ]
  },
  {
   "cell_type": "markdown",
   "id": "8d11f94c",
   "metadata": {},
   "source": [
    "# Question 6"
   ]
  },
  {
   "cell_type": "markdown",
   "id": "a9866994",
   "metadata": {},
   "source": [
    "After running the following code, what does the variable bacon contain?\n",
    "bacon = 22\n",
    "bacon + 1\n"
   ]
  },
  {
   "cell_type": "code",
   "execution_count": 2,
   "id": "bffa05fa",
   "metadata": {},
   "outputs": [
    {
     "name": "stdout",
     "output_type": "stream",
     "text": [
      "22\n"
     ]
    }
   ],
   "source": [
    "bacon = 22\n",
    "bacon + 1\n",
    "print(bacon)"
   ]
  },
  {
   "cell_type": "markdown",
   "id": "8217b172",
   "metadata": {},
   "source": [
    "Answer: 22\n",
    "\n",
    "First statement assigns the value 22 to the variable 'bacon'. The second statement is an expression which adds the value of bacon with 1 but the result is not assigned to variable 'bacon'. Hence, the value of variable still remains as 22.\n",
    "\n",
    "If the second expression was bacon += 1, this will increment the value by 1 and assign the incremented value to the variable 'bacon' and then the value would be 23."
   ]
  },
  {
   "cell_type": "markdown",
   "id": "35ca26cf",
   "metadata": {},
   "source": [
    "# Question 7"
   ]
  },
  {
   "cell_type": "markdown",
   "id": "c269c741",
   "metadata": {},
   "source": [
    "What should the values of the following two terms be?\n",
    "'spam' + 'spamspam'\n",
    "'spam' * 3\n"
   ]
  },
  {
   "cell_type": "markdown",
   "id": "9578e6a1",
   "metadata": {},
   "source": [
    "Answer: \n",
    "'spam' + 'spamspam' = spamspamspam   #expression to perform string concatenation \n",
    "'spam' * 3 = spamspamspam            #expression to perform string repetition"
   ]
  },
  {
   "cell_type": "markdown",
   "id": "78d3e0f5",
   "metadata": {},
   "source": [
    "# Question 8"
   ]
  },
  {
   "cell_type": "markdown",
   "id": "a134e0c8",
   "metadata": {},
   "source": [
    "Why is eggs a valid variable name while 100 is invalid?"
   ]
  },
  {
   "cell_type": "markdown",
   "id": "855cfbf9",
   "metadata": {},
   "source": [
    "Answer:  Variables cannot start with a numeric value or digit. Hence, 100 is not a variable.\n",
    "eggs is a text string starting with a letter and it is neither a key word. Hence, it qualifies to be a valid variable name."
   ]
  },
  {
   "cell_type": "markdown",
   "id": "9cb51e4a",
   "metadata": {},
   "source": [
    "# Question 9"
   ]
  },
  {
   "cell_type": "markdown",
   "id": "c096a1b5",
   "metadata": {},
   "source": [
    "What three functions can be used to get the integer, floating-point number, or string version of a value?"
   ]
  },
  {
   "cell_type": "markdown",
   "id": "67afd658",
   "metadata": {},
   "source": [
    "Answer: int(), float() and str()"
   ]
  },
  {
   "cell_type": "markdown",
   "id": "d25464ca",
   "metadata": {},
   "source": [
    "# Question 10"
   ]
  },
  {
   "cell_type": "markdown",
   "id": "eceddffd",
   "metadata": {},
   "source": [
    "Why does this expression cause an error? How can you fix it?\n",
    "'I have eaten ' + 99 + ' burritos.'\n"
   ]
  },
  {
   "cell_type": "markdown",
   "id": "4bb677bc",
   "metadata": {},
   "source": [
    "Answer: \n",
    "\n",
    "print('I have eaten ' + str(99) + ' burritos.')\n",
    "\n",
    "99 is an integer which cannot be concatenated with string. Hence, to fix this the integer value 99 must be converted to a string data type using str function str(99). "
   ]
  },
  {
   "cell_type": "code",
   "execution_count": null,
   "id": "d4704c2f",
   "metadata": {},
   "outputs": [],
   "source": []
  },
  {
   "cell_type": "code",
   "execution_count": null,
   "id": "7afe8e78",
   "metadata": {},
   "outputs": [],
   "source": []
  }
 ],
 "metadata": {
  "kernelspec": {
   "display_name": "Python 3 (ipykernel)",
   "language": "python",
   "name": "python3"
  },
  "language_info": {
   "codemirror_mode": {
    "name": "ipython",
    "version": 3
   },
   "file_extension": ".py",
   "mimetype": "text/x-python",
   "name": "python",
   "nbconvert_exporter": "python",
   "pygments_lexer": "ipython3",
   "version": "3.10.11"
  }
 },
 "nbformat": 4,
 "nbformat_minor": 5
}

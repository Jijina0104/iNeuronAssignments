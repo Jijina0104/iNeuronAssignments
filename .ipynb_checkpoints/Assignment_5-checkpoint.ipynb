{
 "cells": [
  {
   "cell_type": "markdown",
   "id": "748d8a51",
   "metadata": {},
   "source": [
    "# Question 1"
   ]
  },
  {
   "cell_type": "markdown",
   "id": "4ae2df86",
   "metadata": {},
   "source": [
    "What does an empty dictionary's code look like?"
   ]
  },
  {
   "cell_type": "code",
   "execution_count": 8,
   "id": "00a9967f",
   "metadata": {},
   "outputs": [
    {
     "name": "stdout",
     "output_type": "stream",
     "text": [
      "{}\n"
     ]
    }
   ],
   "source": [
    "dict_1={}\n",
    "print(dict_1)"
   ]
  },
  {
   "cell_type": "markdown",
   "id": "99bf8165",
   "metadata": {},
   "source": [
    "# Question 2"
   ]
  },
  {
   "cell_type": "markdown",
   "id": "9c89fb39",
   "metadata": {},
   "source": [
    "What is the value of a dictionary value with the key 'foo' and the value 42?"
   ]
  },
  {
   "cell_type": "code",
   "execution_count": 9,
   "id": "5139f82b",
   "metadata": {},
   "outputs": [
    {
     "name": "stdout",
     "output_type": "stream",
     "text": [
      "{'foo': 42}\n"
     ]
    },
    {
     "data": {
      "text/plain": [
       "42"
      ]
     },
     "execution_count": 9,
     "metadata": {},
     "output_type": "execute_result"
    }
   ],
   "source": [
    "dict_2 = {\"foo\":42}\n",
    "print(dict_2)\n",
    "output = dict_2['foo']\n",
    "output"
   ]
  },
  {
   "cell_type": "markdown",
   "id": "21be8def",
   "metadata": {},
   "source": [
    "# Question 3"
   ]
  },
  {
   "cell_type": "markdown",
   "id": "1610db1d",
   "metadata": {},
   "source": [
    "What is the most significant distinction between a dictionary and a list?"
   ]
  },
  {
   "cell_type": "markdown",
   "id": "7bdce03f",
   "metadata": {},
   "source": [
    "- Lists are ordered collections of elements stored in index and dictionary is an unordered collection of key value pair.\n",
    "- List elements are accessed by its index where as dictionary values are accessed by its key\n",
    "- Lists are mutable. Values of dictionary are mutable where as dictionary keys are immutable. "
   ]
  },
  {
   "cell_type": "markdown",
   "id": "ec9f7010",
   "metadata": {},
   "source": [
    "# Question 4"
   ]
  },
  {
   "cell_type": "markdown",
   "id": "8193e817",
   "metadata": {},
   "source": [
    "What happens if you try to access spam['foo'] if spam is {'bar': 100}?"
   ]
  },
  {
   "cell_type": "markdown",
   "id": "f828c132",
   "metadata": {},
   "source": [
    "# Question 5"
   ]
  },
  {
   "cell_type": "markdown",
   "id": "f3110cfe",
   "metadata": {},
   "source": [
    "If a dictionary is stored in spam, what is the difference between the expressions 'cat' in spam and 'cat' in spam.keys()?"
   ]
  },
  {
   "cell_type": "code",
   "execution_count": 10,
   "id": "4421802c",
   "metadata": {},
   "outputs": [
    {
     "name": "stdout",
     "output_type": "stream",
     "text": [
      "True\n",
      "True\n"
     ]
    }
   ],
   "source": [
    "#Answer: Output of both expression remains the same.\n",
    "\n",
    "spam = {\"cat\": \"white\"}\n",
    "result1 = 'cat' in spam\n",
    "result2 = 'cat' in spam.keys()\n",
    "print(result1)\n",
    "print(result2)\n",
    "\n",
    "# 'cat' in spam: This expression checks if the key 'cat' exists in the dictionary spam.\n",
    "# 'cat' in spam.keys() : This expression explicitly generates a list of keys, which is then checked for the presence of 'cat'."
   ]
  },
  {
   "cell_type": "markdown",
   "id": "1411a406",
   "metadata": {},
   "source": [
    "# Question 6"
   ]
  },
  {
   "cell_type": "markdown",
   "id": "9c42ea44",
   "metadata": {},
   "source": [
    "If a dictionary is stored in spam, what is the difference between the expressions 'cat' in spam and 'cat' in spam.values()?"
   ]
  },
  {
   "cell_type": "code",
   "execution_count": 11,
   "id": "22189060",
   "metadata": {},
   "outputs": [
    {
     "name": "stdout",
     "output_type": "stream",
     "text": [
      "True\n",
      "False\n"
     ]
    }
   ],
   "source": [
    "#Answer: \n",
    "\n",
    "spam = {\"cat\": \"white\"}\n",
    "result1 = 'cat' in spam\n",
    "result2 = 'cat' in spam.values()\n",
    "print(result1)\n",
    "print(result2)\n",
    "\n",
    "# 'cat' in spam: This expression checks if the key 'cat' exists in the dictionary spam.\n",
    "# 'cat' in spam.values() : This expression explicitly generates a list of dictionary values, which is then checked for the presence of 'cat'."
   ]
  },
  {
   "cell_type": "markdown",
   "id": "fa7e0df5",
   "metadata": {},
   "source": [
    "# Question 7"
   ]
  },
  {
   "cell_type": "markdown",
   "id": "074ca390",
   "metadata": {},
   "source": [
    "What is a shortcut for the following code? <br>\n",
    "if 'color' not in spam: <br>\n",
    "spam['color'] = 'black' \n"
   ]
  },
  {
   "cell_type": "code",
   "execution_count": 12,
   "id": "b19093ad",
   "metadata": {},
   "outputs": [
    {
     "name": "stdout",
     "output_type": "stream",
     "text": [
      "{'cat': 'white', 'color': 'black'}\n"
     ]
    },
    {
     "data": {
      "text/plain": [
       "'black'"
      ]
     },
     "execution_count": 12,
     "metadata": {},
     "output_type": "execute_result"
    }
   ],
   "source": [
    "spam.setdefault('color', 'black')\n",
    "print(spam)\n",
    "spam['color']\n",
    "\n",
    "# 'setdefault()' method checks if a specified key exists in the dictionary. \n",
    "# If the key is present, it returns the corresponding value. \n",
    "# If the key is not present, it inserts the key with the specified default value into the dictionary and returns the default value."
   ]
  },
  {
   "cell_type": "markdown",
   "id": "cf3f86a5",
   "metadata": {},
   "source": [
    "# Question 8"
   ]
  },
  {
   "cell_type": "markdown",
   "id": "6812132e",
   "metadata": {},
   "source": [
    "How do you \"pretty print\" dictionary values using which module and function?"
   ]
  },
  {
   "cell_type": "markdown",
   "id": "634189a5",
   "metadata": {},
   "source": [
    "- 'pretty print' - it provides the dictionary values in a more readable format\n",
    "- Module to import in pprint\n",
    "- function to use is pprint()"
   ]
  },
  {
   "cell_type": "code",
   "execution_count": null,
   "id": "cdaff6ab",
   "metadata": {},
   "outputs": [],
   "source": [
    "import pprint\n",
    "\n",
    "dict_8 = {\"name\": \"angel\", \"address\": \"Belgium\", \"language\": \"French\"}\n",
    "pprint.pprint(dict_8)\n"
   ]
  },
  {
   "cell_type": "code",
   "execution_count": null,
   "id": "6ddbe9ed",
   "metadata": {},
   "outputs": [],
   "source": []
  }
 ],
 "metadata": {
  "kernelspec": {
   "display_name": "Python 3 (ipykernel)",
   "language": "python",
   "name": "python3"
  },
  "language_info": {
   "codemirror_mode": {
    "name": "ipython",
    "version": 3
   },
   "file_extension": ".py",
   "mimetype": "text/x-python",
   "name": "python",
   "nbconvert_exporter": "python",
   "pygments_lexer": "ipython3",
   "version": "3.10.9"
  }
 },
 "nbformat": 4,
 "nbformat_minor": 5
}

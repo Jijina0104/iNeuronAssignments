{
 "cells": [
  {
   "cell_type": "markdown",
   "id": "45556c21",
   "metadata": {},
   "source": [
    "# Question 1"
   ]
  },
  {
   "cell_type": "markdown",
   "id": "4d9ad3ff",
   "metadata": {},
   "source": [
    "What are keywords in python? Using the keyword library, print all the python keywords."
   ]
  },
  {
   "cell_type": "code",
   "execution_count": 9,
   "id": "da73d500",
   "metadata": {},
   "outputs": [
    {
     "name": "stdout",
     "output_type": "stream",
     "text": [
      "['False', 'None', 'True', 'and', 'as', 'assert', 'async', 'await', 'break', 'class', 'continue', 'def', 'del', 'elif', 'else', 'except', 'finally', 'for', 'from', 'global', 'if', 'import', 'in', 'is', 'lambda', 'nonlocal', 'not', 'or', 'pass', 'raise', 'return', 'try', 'while', 'with', 'yield']\n"
     ]
    }
   ],
   "source": [
    "#Answer : Keywords in Python are reserved words that have special meanings and purposes within the language. \n",
    "# It should not be used as a name for the variable, function, class etc.\n",
    "import keyword\n",
    "print(keyword.kwlist)"
   ]
  },
  {
   "cell_type": "markdown",
   "id": "d1846a92",
   "metadata": {},
   "source": [
    "# Question 2"
   ]
  },
  {
   "cell_type": "markdown",
   "id": "cfb20ebd",
   "metadata": {},
   "source": [
    "What are the rules to create variables in python?"
   ]
  },
  {
   "cell_type": "markdown",
   "id": "70ddf77f",
   "metadata": {},
   "source": [
    "- Variable name should not be a keyword\n",
    "- It should not start with an integer. It should start with a letter or underscore\n",
    "- Variable names are case sensitive\n",
    "- You define and assign value for variable using operator ('=') sign."
   ]
  },
  {
   "cell_type": "markdown",
   "id": "cc7ca816",
   "metadata": {},
   "source": [
    "# Question 3"
   ]
  },
  {
   "cell_type": "markdown",
   "id": "743329a6",
   "metadata": {},
   "source": [
    "What are the standards and conventions followed for the nomenclature of variables in\n",
    "python to improve code readability and maintainability?"
   ]
  },
  {
   "cell_type": "markdown",
   "id": "d18a8b3f",
   "metadata": {},
   "source": [
    "- Variable name should not be a keyword\n",
    "- It should not start with an integer. It should start with a letter or underscore.  \n",
    "- The name provided can be made more readable with underscore between words. ex: student_list, bank_balance\n",
    "- Variable names are case sensitive"
   ]
  },
  {
   "cell_type": "markdown",
   "id": "afd0bace",
   "metadata": {},
   "source": [
    "# Question 4"
   ]
  },
  {
   "cell_type": "markdown",
   "id": "d97b3a2f",
   "metadata": {},
   "source": [
    "What will happen if a keyword is used as a variable name?"
   ]
  },
  {
   "cell_type": "code",
   "execution_count": 11,
   "id": "1b3a917a",
   "metadata": {},
   "outputs": [
    {
     "ename": "SyntaxError",
     "evalue": "invalid syntax (536445091.py, line 3)",
     "output_type": "error",
     "traceback": [
      "\u001b[1;36m  Cell \u001b[1;32mIn[11], line 3\u001b[1;36m\u001b[0m\n\u001b[1;33m    finally = \"output\"\u001b[0m\n\u001b[1;37m    ^\u001b[0m\n\u001b[1;31mSyntaxError\u001b[0m\u001b[1;31m:\u001b[0m invalid syntax\n"
     ]
    }
   ],
   "source": [
    "# It will give SyntaxError\n",
    "\n",
    "finally = \"output\""
   ]
  },
  {
   "cell_type": "markdown",
   "id": "7a00e62f",
   "metadata": {},
   "source": [
    "# Question 5"
   ]
  },
  {
   "cell_type": "markdown",
   "id": "91761462",
   "metadata": {},
   "source": [
    "For what purpose def keyword is used?"
   ]
  },
  {
   "cell_type": "code",
   "execution_count": null,
   "id": "94d305c4",
   "metadata": {},
   "outputs": [],
   "source": [
    "# def is a python keyword, used to define user defined function"
   ]
  },
  {
   "cell_type": "markdown",
   "id": "7dc4bd70",
   "metadata": {},
   "source": [
    "# Question 6"
   ]
  },
  {
   "cell_type": "code",
   "execution_count": 12,
   "id": "bcb23bea",
   "metadata": {},
   "outputs": [
    {
     "ename": "SyntaxError",
     "evalue": "invalid character '‘' (U+2018) (149816688.py, line 1)",
     "output_type": "error",
     "traceback": [
      "\u001b[1;36m  Cell \u001b[1;32mIn[12], line 1\u001b[1;36m\u001b[0m\n\u001b[1;33m    What is the operation of this special character ‘\\’?\u001b[0m\n\u001b[1;37m                                                    ^\u001b[0m\n\u001b[1;31mSyntaxError\u001b[0m\u001b[1;31m:\u001b[0m invalid character '‘' (U+2018)\n"
     ]
    }
   ],
   "source": [
    "What is the operation of this special character ‘\\’?"
   ]
  },
  {
   "cell_type": "markdown",
   "id": "7fb9ad61",
   "metadata": {},
   "source": [
    "- \\ is an escape character\n",
    "- \\t : tab \n",
    "- \\n : new line\n",
    "- \\r : carriage return"
   ]
  },
  {
   "cell_type": "markdown",
   "id": "ca9576fa",
   "metadata": {},
   "source": [
    "# Question 7"
   ]
  },
  {
   "cell_type": "markdown",
   "id": "56ac2e2f",
   "metadata": {},
   "source": [
    "Q.7. Give an example of the following conditions:\n",
    "(i) Homogeneous list\n",
    "(ii) Heterogeneous set\n",
    "(iii) Homogeneous tuple"
   ]
  },
  {
   "cell_type": "markdown",
   "id": "7908e358",
   "metadata": {},
   "source": [
    "(i) Homogeneous list - list that contains element of same data type <br>\n",
    "- homo_list = [1, 2, 3, 4] <br>\n",
    "\n",
    "(ii) Heterogeneous set -  set that contains elements of different data types <br>\n",
    "- hetero_set = {123, 'Belgium', 3.14, True} <br>\n",
    "\n",
    "(iii) Homogeneous tuple - tuple that contains elements of the same data type. <br>\n",
    "- home_tuple = ('mango', 'banana', 'cherry', 'date')\n"
   ]
  },
  {
   "cell_type": "markdown",
   "id": "78b8d11f",
   "metadata": {},
   "source": [
    "# Question 8"
   ]
  },
  {
   "cell_type": "markdown",
   "id": "1d80acc8",
   "metadata": {},
   "source": [
    "Explain the mutable and immutable data types with proper explanation & examples."
   ]
  },
  {
   "cell_type": "code",
   "execution_count": 24,
   "id": "956b1129",
   "metadata": {},
   "outputs": [
    {
     "name": "stdout",
     "output_type": "stream",
     "text": [
      "['apple', 'orange', 'banana', 'pineapple']\n",
      "['apple', 'cherry', 'banana', 'pineapple']\n",
      "('mango', 'banana', 'cherry', 'date')\n",
      "('mango', 'banana', 'cherry', 'date', 'apple')\n"
     ]
    }
   ],
   "source": [
    "# List is mutable - That means the value can be modified after creating a list\n",
    "my_list = ['apple', 'orange', 'banana', 'pineapple']\n",
    "print(my_list)\n",
    "my_list[1] = 'cherry'\n",
    "print(my_list) #Modified list\n",
    "\n",
    "# Tuple is an immutable data type - That means the elements cannot be modified after the tuple object is created.\n",
    "my_tuple = ('mango', 'banana', 'cherry', 'date')\n",
    "print(my_tuple)\n",
    "\n",
    "new_tuple = my_tuple + ('apple',)\n",
    "print(new_tuple) #it creates a new tuple with new element\n"
   ]
  },
  {
   "cell_type": "markdown",
   "id": "027c5411",
   "metadata": {},
   "source": [
    "# Question 9"
   ]
  },
  {
   "cell_type": "code",
   "execution_count": 25,
   "id": "b7869c4b",
   "metadata": {},
   "outputs": [
    {
     "name": "stdout",
     "output_type": "stream",
     "text": [
      "    *\n",
      "   ***\n",
      "  *****\n",
      " *******\n",
      "*********\n"
     ]
    }
   ],
   "source": [
    "row = 5\n",
    "space = row-1\n",
    "for i in range(row):\n",
    "    for j in range(space,0,-1):\n",
    "        print(\" \",end=\"\")\n",
    "    for k in range(0,(2*i)+1):\n",
    "        print(\"*\",end=\"\")\n",
    "    space-=1\n",
    "    print()"
   ]
  },
  {
   "cell_type": "code",
   "execution_count": 19,
   "id": "1dc80720",
   "metadata": {},
   "outputs": [
    {
     "name": "stdout",
     "output_type": "stream",
     "text": [
      "    *\n",
      "   ***\n",
      "  *****\n",
      " *******\n",
      "*********\n"
     ]
    }
   ],
   "source": [
    "row=5\n",
    "for i in range(row):\n",
    "    print(\" \"*(row-i-1) + \"*\"*(2*i+1))"
   ]
  },
  {
   "cell_type": "code",
   "execution_count": 20,
   "id": "1133ae89",
   "metadata": {},
   "outputs": [
    {
     "name": "stdout",
     "output_type": "stream",
     "text": [
      "    *     \n",
      "   ***    \n",
      "  *****   \n",
      " *******  \n",
      "********* \n"
     ]
    }
   ],
   "source": [
    "row =5\n",
    "for i in range(1,row*2,2):\n",
    "    print((\"*\"*i).center(row*2))"
   ]
  },
  {
   "cell_type": "markdown",
   "id": "8ff302cd",
   "metadata": {},
   "source": [
    "# Question 10"
   ]
  },
  {
   "cell_type": "code",
   "execution_count": 21,
   "id": "d01b9946",
   "metadata": {},
   "outputs": [
    {
     "data": {
      "text/plain": [
       "'\\nWrite a code to create the given structure using while loop.\\n|||||||||\\n |||||||\\n  |||||\\n   |||\\n    |\\n'"
      ]
     },
     "execution_count": 21,
     "metadata": {},
     "output_type": "execute_result"
    }
   ],
   "source": [
    "'''\n",
    "Write a code to create the given structure using while loop.\n",
    "|||||||||\n",
    " |||||||\n",
    "  |||||\n",
    "   |||\n",
    "    |\n",
    "'''"
   ]
  },
  {
   "cell_type": "code",
   "execution_count": 22,
   "id": "932676c4",
   "metadata": {},
   "outputs": [
    {
     "name": "stdout",
     "output_type": "stream",
     "text": [
      "|||||||||\n",
      " |||||||\n",
      "  |||||\n",
      "   |||\n",
      "    |\n",
      "\n"
     ]
    }
   ],
   "source": [
    "row = 5\n",
    "space = 0\n",
    "while row>=1:\n",
    "    print(\" \"*space, end=\"\")\n",
    "    print(\"|\"*(2*row-1))   \n",
    "    row-=1\n",
    "    space+=1\n",
    "print()"
   ]
  },
  {
   "cell_type": "code",
   "execution_count": 23,
   "id": "d6dc111c",
   "metadata": {},
   "outputs": [
    {
     "name": "stdout",
     "output_type": "stream",
     "text": [
      "||||||||| \n",
      " |||||||  \n",
      "  |||||   \n",
      "   |||    \n",
      "    |     \n"
     ]
    }
   ],
   "source": [
    "row = 5\n",
    "while row>=1:\n",
    "    print((\"|\"*(2*row-1)).center(10))   \n",
    "    row-=1"
   ]
  },
  {
   "cell_type": "code",
   "execution_count": null,
   "id": "0c482199",
   "metadata": {},
   "outputs": [],
   "source": []
  },
  {
   "cell_type": "code",
   "execution_count": null,
   "id": "cd9933ca",
   "metadata": {},
   "outputs": [],
   "source": []
  }
 ],
 "metadata": {
  "kernelspec": {
   "display_name": "Python 3 (ipykernel)",
   "language": "python",
   "name": "python3"
  },
  "language_info": {
   "codemirror_mode": {
    "name": "ipython",
    "version": 3
   },
   "file_extension": ".py",
   "mimetype": "text/x-python",
   "name": "python",
   "nbconvert_exporter": "python",
   "pygments_lexer": "ipython3",
   "version": "3.10.9"
  }
 },
 "nbformat": 4,
 "nbformat_minor": 5
}

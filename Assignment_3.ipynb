{
 "cells": [
  {
   "cell_type": "markdown",
   "id": "66c6358a",
   "metadata": {},
   "source": [
    "# Question 1"
   ]
  },
  {
   "cell_type": "markdown",
   "id": "e70ba898",
   "metadata": {},
   "source": [
    "Why are functions advantageous to have in your programs?"
   ]
  },
  {
   "cell_type": "markdown",
   "id": "cdc864f7",
   "metadata": {},
   "source": [
    "Answer:\n",
    "    \n",
    "- Functions are block of reusable code, which performs a specific task.\n",
    "- It helps to divide complex problems to simpler parts\n",
    "- The functions can be reused, which helps to reduce the size of the code.\n"
   ]
  },
  {
   "cell_type": "markdown",
   "id": "04302153",
   "metadata": {},
   "source": [
    "# Question 2"
   ]
  },
  {
   "cell_type": "markdown",
   "id": "fbb9a048",
   "metadata": {},
   "source": [
    "When does the code in a function run: when it's specified or when it's called?"
   ]
  },
  {
   "cell_type": "markdown",
   "id": "bcc0d16b",
   "metadata": {},
   "source": [
    "Answer:\n",
    "\n",
    "The code within a function are executed when it is called."
   ]
  },
  {
   "cell_type": "markdown",
   "id": "04f12cf6",
   "metadata": {},
   "source": [
    "# Question 3:"
   ]
  },
  {
   "cell_type": "markdown",
   "id": "507db375",
   "metadata": {},
   "source": [
    "What statement creates a function?"
   ]
  },
  {
   "cell_type": "markdown",
   "id": "2f915176",
   "metadata": {},
   "source": [
    "Answer: \n",
    "\n",
    "def keyword is used to create a function. <br>\n",
    "\n",
    "def function(): <br>\n",
    "    *** code *** "
   ]
  },
  {
   "cell_type": "markdown",
   "id": "458180fb",
   "metadata": {},
   "source": [
    "# Question 4"
   ]
  },
  {
   "cell_type": "markdown",
   "id": "52da0b7a",
   "metadata": {},
   "source": [
    "What is the difference between a function and a function call?"
   ]
  },
  {
   "cell_type": "code",
   "execution_count": 18,
   "id": "7d2dc141",
   "metadata": {},
   "outputs": [
    {
     "name": "stdout",
     "output_type": "stream",
     "text": [
      "Hello\n"
     ]
    }
   ],
   "source": [
    "#Answer: \n",
    "\n",
    "#Function declare: First, the function has to be declared using a def keyword: <br>\n",
    "def function1(): \n",
    "    print(\"Hello\")\n",
    "\n",
    "#Function Call: Second, the function has to be called, to execute the code inside the function\n",
    "function1()\n"
   ]
  },
  {
   "cell_type": "markdown",
   "id": "0e35151d",
   "metadata": {},
   "source": [
    "# Question 5"
   ]
  },
  {
   "cell_type": "markdown",
   "id": "0dd36406",
   "metadata": {},
   "source": [
    "How many global scopes are there in a Python program? How many local scopes?"
   ]
  },
  {
   "cell_type": "markdown",
   "id": "31b5ae6a",
   "metadata": {},
   "source": [
    "Answer:\n",
    "\n",
    "Global scopes : There is only one main global scope. When the python code is executed, the main module __main__ holds the main program execution and the namespcae of this module is the main global scope of the program. \n",
    "\n",
    "Local scopes: are local variables which are accessible only within the specific function. "
   ]
  },
  {
   "cell_type": "markdown",
   "id": "59236cf0",
   "metadata": {},
   "source": [
    "# Question 6"
   ]
  },
  {
   "cell_type": "markdown",
   "id": "809c6f66",
   "metadata": {},
   "source": [
    "What happens to variables in a local scope when the function call returns?"
   ]
  },
  {
   "cell_type": "code",
   "execution_count": 19,
   "id": "69772a28",
   "metadata": {},
   "outputs": [
    {
     "name": "stdout",
     "output_type": "stream",
     "text": [
      "10\n"
     ]
    },
    {
     "ename": "NameError",
     "evalue": "name 'var' is not defined",
     "output_type": "error",
     "traceback": [
      "\u001b[1;31m---------------------------------------------------------------------------\u001b[0m",
      "\u001b[1;31mNameError\u001b[0m                                 Traceback (most recent call last)",
      "Cell \u001b[1;32mIn[19], line 7\u001b[0m\n\u001b[0;32m      5\u001b[0m     \u001b[38;5;28mprint\u001b[39m(var)\n\u001b[0;32m      6\u001b[0m function2()\n\u001b[1;32m----> 7\u001b[0m \u001b[38;5;28mprint\u001b[39m(\u001b[43mvar\u001b[49m)\n",
      "\u001b[1;31mNameError\u001b[0m: name 'var' is not defined"
     ]
    }
   ],
   "source": [
    "#Answer: \n",
    "#The local  variables are destroyed when the function call completes\n",
    "def function2():\n",
    "    var = 10\n",
    "    print(var)\n",
    "function2()\n",
    "print(var)  # this print statement will give error NameError as the variable is not defined"
   ]
  },
  {
   "cell_type": "markdown",
   "id": "792b1745",
   "metadata": {},
   "source": [
    "# Question 7"
   ]
  },
  {
   "cell_type": "markdown",
   "id": "34106d91",
   "metadata": {},
   "source": [
    "What is the concept of a return value? Is it possible to have a return value in an expression?"
   ]
  },
  {
   "cell_type": "code",
   "execution_count": 1,
   "id": "e06930cf",
   "metadata": {},
   "outputs": [
    {
     "name": "stdout",
     "output_type": "stream",
     "text": [
      "14\n",
      "17\n"
     ]
    },
    {
     "data": {
      "text/plain": [
       "28"
      ]
     },
     "execution_count": 1,
     "metadata": {},
     "output_type": "execute_result"
    }
   ],
   "source": [
    "'''\n",
    "Answer:\n",
    "    \n",
    "Return values are the output values which are sent back by a function to the calling function after completing its execution.\n",
    "\n",
    "The return values can be used in another expression or function. \n",
    "\n",
    "'''\n",
    "\n",
    "def add_num(x,y):\n",
    "    return x + y\n",
    "result = add_num(7,7)\n",
    "print(result)\n",
    "\n",
    "final_result = 10 + add_num(2,5)\n",
    "print(final_result)\n",
    "\n",
    "20 + add_num(5,3)"
   ]
  },
  {
   "cell_type": "markdown",
   "id": "85166116",
   "metadata": {},
   "source": [
    "# Question 8"
   ]
  },
  {
   "cell_type": "markdown",
   "id": "309f9a53",
   "metadata": {},
   "source": [
    "If a function does not have a return statement, what is the return value of a call to that function?"
   ]
  },
  {
   "cell_type": "markdown",
   "id": "9758510a",
   "metadata": {},
   "source": [
    "Answer:\n",
    "\n",
    "If a function does not have a return statement, it returns 'None' value to the calling function."
   ]
  },
  {
   "cell_type": "markdown",
   "id": "b63787ee",
   "metadata": {},
   "source": [
    "# Question 9"
   ]
  },
  {
   "cell_type": "markdown",
   "id": "29d8610b",
   "metadata": {},
   "source": [
    "How do you make a function variable refer to the global variable?"
   ]
  },
  {
   "cell_type": "code",
   "execution_count": 21,
   "id": "2f398b84",
   "metadata": {},
   "outputs": [
    {
     "name": "stdout",
     "output_type": "stream",
     "text": [
      "30\n"
     ]
    }
   ],
   "source": [
    "#Answer:\n",
    "\n",
    "# Values assigned to global varibales num1 and num2.\n",
    "num1 = 10\n",
    "num2 = 20\n",
    "def add_num(num1, num2):\n",
    "    x = num1 #function variable x gets the value from global variable num1\n",
    "    y = num2 #function variable y gets the value from global variable num2\n",
    "    return x + y\n",
    "result = add_num(num1, num2)\n",
    "print(result)"
   ]
  },
  {
   "cell_type": "markdown",
   "id": "4b0e25cf",
   "metadata": {},
   "source": [
    "# Question 10"
   ]
  },
  {
   "cell_type": "markdown",
   "id": "391d3be3",
   "metadata": {},
   "source": [
    "What is the data type of None?"
   ]
  },
  {
   "cell_type": "code",
   "execution_count": 22,
   "id": "cdec148e",
   "metadata": {},
   "outputs": [
    {
     "name": "stdout",
     "output_type": "stream",
     "text": [
      "<class 'NoneType'>\n"
     ]
    }
   ],
   "source": [
    "#None just represents the absence of a value\n",
    "\n",
    "print(type(None))"
   ]
  },
  {
   "cell_type": "markdown",
   "id": "e7c19251",
   "metadata": {},
   "source": [
    "# Question 11"
   ]
  },
  {
   "cell_type": "markdown",
   "id": "57a1fb38",
   "metadata": {},
   "source": [
    "What does the sentence import areallyourpetsnamederic do?"
   ]
  },
  {
   "cell_type": "code",
   "execution_count": 2,
   "id": "6233ab33",
   "metadata": {},
   "outputs": [
    {
     "ename": "ModuleNotFoundError",
     "evalue": "No module named 'areallyourpetsnamederic'",
     "output_type": "error",
     "traceback": [
      "\u001b[1;31m---------------------------------------------------------------------------\u001b[0m",
      "\u001b[1;31mModuleNotFoundError\u001b[0m                       Traceback (most recent call last)",
      "Cell \u001b[1;32mIn[2], line 4\u001b[0m\n\u001b[0;32m      1\u001b[0m \u001b[38;5;66;03m#Answer:\u001b[39;00m\n\u001b[0;32m      2\u001b[0m \u001b[38;5;66;03m# import modulename does import the module/package to use in the application code. If it does not exist, it raises an exception ModuleNotFoundError.\u001b[39;00m\n\u001b[1;32m----> 4\u001b[0m \u001b[38;5;28;01mimport\u001b[39;00m  \u001b[38;5;21;01mareallyourpetsnamederic\u001b[39;00m\n",
      "\u001b[1;31mModuleNotFoundError\u001b[0m: No module named 'areallyourpetsnamederic'"
     ]
    }
   ],
   "source": [
    "#Answer:\n",
    "# import modulename does import the module/package to use in the application code. If it does not exist, it raises an exception ModuleNotFoundError.\n",
    "\n",
    "import  areallyourpetsnamederic\n"
   ]
  },
  {
   "cell_type": "markdown",
   "id": "d5e32565",
   "metadata": {},
   "source": [
    "# Question 12"
   ]
  },
  {
   "cell_type": "markdown",
   "id": "48a4ef55",
   "metadata": {},
   "source": [
    "If you had a bacon() feature in a spam module, what would you call it after importing spam?"
   ]
  },
  {
   "cell_type": "markdown",
   "id": "f68c4c20",
   "metadata": {},
   "source": [
    "#Answer\n",
    "\n",
    "#Execute the statement spam.bacon() to use the bacon() feature of spam module\n",
    "\n",
    "import bacon <br>\n",
    "spam.bacon()\n",
    "\n"
   ]
  },
  {
   "cell_type": "markdown",
   "id": "51a2edef",
   "metadata": {},
   "source": [
    "# Question 13"
   ]
  },
  {
   "cell_type": "markdown",
   "id": "375c760e",
   "metadata": {},
   "source": [
    "What can you do to save a programme from crashing if it encounters an error?"
   ]
  },
  {
   "cell_type": "markdown",
   "id": "2664925b",
   "metadata": {},
   "source": [
    "Answer:\n",
    "\n",
    "- Implement error handling techniques(try clause) to prevent a program from crashing\n",
    "- Implement application logging"
   ]
  },
  {
   "cell_type": "markdown",
   "id": "d6eb5f08",
   "metadata": {},
   "source": [
    "# Question 14"
   ]
  },
  {
   "cell_type": "markdown",
   "id": "7875a015",
   "metadata": {},
   "source": [
    "What is the purpose of the try clause? What is the purpose of the except clause?"
   ]
  },
  {
   "cell_type": "markdown",
   "id": "7feeda83",
   "metadata": {},
   "source": [
    "Answer\n",
    "\n",
    "- try and except is an error handling technique to prevent a program from crashing\n",
    "- try clause: Code that raise an exception\n",
    "- except clause:  If an exception occurs within the try block, the corresponding except block is executed, allowing you to handle the exception"
   ]
  },
  {
   "cell_type": "code",
   "execution_count": null,
   "id": "fe720428",
   "metadata": {},
   "outputs": [],
   "source": []
  },
  {
   "cell_type": "code",
   "execution_count": null,
   "id": "fdda2808",
   "metadata": {},
   "outputs": [],
   "source": []
  }
 ],
 "metadata": {
  "kernelspec": {
   "display_name": "Python 3 (ipykernel)",
   "language": "python",
   "name": "python3"
  },
  "language_info": {
   "codemirror_mode": {
    "name": "ipython",
    "version": 3
   },
   "file_extension": ".py",
   "mimetype": "text/x-python",
   "name": "python",
   "nbconvert_exporter": "python",
   "pygments_lexer": "ipython3",
   "version": "3.10.9"
  }
 },
 "nbformat": 4,
 "nbformat_minor": 5
}

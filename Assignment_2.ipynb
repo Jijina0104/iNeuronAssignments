{
 "cells": [
  {
   "cell_type": "markdown",
   "id": "f3e22456",
   "metadata": {},
   "source": [
    "# Question 1"
   ]
  },
  {
   "cell_type": "markdown",
   "id": "9bdf5c99",
   "metadata": {},
   "source": [
    "What are the two values of the Boolean data type? How do you write them?"
   ]
  },
  {
   "cell_type": "markdown",
   "id": "8087a163",
   "metadata": {},
   "source": [
    "Answer:\n",
    "\n",
    "True - Returns True value if the conditional statement or logical operations evaluates to true. <br>\n",
    "False - Returns False value if the conditional statement or logical operations evaluates to false."
   ]
  },
  {
   "cell_type": "markdown",
   "id": "afda5762",
   "metadata": {},
   "source": [
    "# Question 2"
   ]
  },
  {
   "cell_type": "markdown",
   "id": "ef3930fe",
   "metadata": {},
   "source": [
    "What are the three different types of Boolean operators?"
   ]
  },
  {
   "cell_type": "markdown",
   "id": "98a6a707",
   "metadata": {},
   "source": [
    "Answer:\n",
    "\n",
    "and : Logical AND <br>\n",
    "or  : Logical OR <br>\n",
    "not : Logical NOT \n"
   ]
  },
  {
   "cell_type": "code",
   "execution_count": 9,
   "id": "f65d32d5",
   "metadata": {},
   "outputs": [
    {
     "name": "stdout",
     "output_type": "stream",
     "text": [
      "True\n",
      "True\n"
     ]
    }
   ],
   "source": [
    "x = 10\n",
    "y = 20\n",
    "print(x < 20 or y < 20 )\n",
    "print(x < 20 and y == 20 )"
   ]
  },
  {
   "cell_type": "markdown",
   "id": "ff8c0fc6",
   "metadata": {},
   "source": [
    "# Question 3"
   ]
  },
  {
   "cell_type": "markdown",
   "id": "591fe66a",
   "metadata": {},
   "source": [
    "Make a list of each Boolean operator's truth tables (i.e. every possible combination of Boolean values for the operator and what it evaluate )."
   ]
  },
  {
   "cell_type": "markdown",
   "id": "dcc8c74c",
   "metadata": {},
   "source": [
    "Answer:\n",
    "\n",
    "True and False = False <br>\n",
    "True and True = True <br>\n",
    "False and True = False <br>\n",
    "False and False = False <br>\n",
    "\n",
    "True or False = True <br>\n",
    "True or True = True <br>\n",
    "False or True = True <br>\n",
    "False or False = False <br>\n",
    "\n",
    "not True = False <br>\n",
    "not False = True"
   ]
  },
  {
   "cell_type": "markdown",
   "id": "91b33c52",
   "metadata": {},
   "source": [
    "# Question 4"
   ]
  },
  {
   "cell_type": "markdown",
   "id": "94dfe914",
   "metadata": {},
   "source": [
    "What are the values of the following expressions? <br>\n",
    "(5 > 4) and (3 == 5) <br>\n",
    "not (5 > 4) <br>\n",
    "(5 > 4) or (3 == 5) <br>\n",
    "not ((5 > 4) or (3 == 5)) <br>\n",
    "(True and True) and (True == False) <br>\n",
    "(not False) or (not True)\n"
   ]
  },
  {
   "cell_type": "markdown",
   "id": "98afd654",
   "metadata": {},
   "source": [
    "Answer:\n",
    "\n",
    "(5 > 4) and (3 == 5)                   : True and False =  False <br>\n",
    "not (5 > 4)                            : not True = False <br>\n",
    "(5 > 4) or (3 == 5)                    : True or False = True <br>\n",
    "not ((5 > 4) or (3 == 5))              : not( True or False) => not True = False <br>\n",
    "(True and True) and (True == False)    : True and False = False <br>\n",
    "(not False) or (not True)              : True or False = True"
   ]
  },
  {
   "cell_type": "markdown",
   "id": "2efa4522",
   "metadata": {},
   "source": [
    "# Question 5"
   ]
  },
  {
   "cell_type": "markdown",
   "id": "257e37ca",
   "metadata": {},
   "source": [
    "What are the six comparison operators?"
   ]
  },
  {
   "cell_type": "markdown",
   "id": "a8c2dd38",
   "metadata": {},
   "source": [
    "Answer:\n",
    "\n",
    "greater than (>) <br>\n",
    "less than (<) <br> \n",
    "greater than or equal to (>=)<br>\n",
    "less than or equal to (<=)<br>\n",
    "equal to (==)<br>\n",
    "Not equal to (!=)<br>"
   ]
  },
  {
   "cell_type": "markdown",
   "id": "fc115bec",
   "metadata": {},
   "source": [
    "# Question 6"
   ]
  },
  {
   "cell_type": "markdown",
   "id": "7653a13e",
   "metadata": {},
   "source": [
    "How do you tell the difference between the equal to and assignment operators?Describe a condition and when you would use one."
   ]
  },
  {
   "cell_type": "markdown",
   "id": "e252d7d7",
   "metadata": {},
   "source": [
    "Answer:\n",
    "\n",
    "x = 10 is an assignment statement which uses the assignment operator '=' and assigns the integer value 10 to the variable 'x'. <br>\n",
    "x == 10 is a conditional statement which uses the equal to operator '==' to check if the operand value matches. If the value of variable 'x' equals 10, it returns the value True else it returns the value False.\n"
   ]
  },
  {
   "cell_type": "code",
   "execution_count": 12,
   "id": "e6106a41",
   "metadata": {},
   "outputs": [
    {
     "name": "stdout",
     "output_type": "stream",
     "text": [
      "10\n",
      "True\n"
     ]
    }
   ],
   "source": [
    "x=10\n",
    "print(x)\n",
    "print(x==10)"
   ]
  },
  {
   "cell_type": "markdown",
   "id": "5e558418",
   "metadata": {},
   "source": [
    "# Question 7"
   ]
  },
  {
   "cell_type": "markdown",
   "id": "88b76726",
   "metadata": {},
   "source": [
    "Identify the three blocks in this code: \n",
    "\n",
    "spam = 0 <br>\n",
    "if spam == 10: <br>\n",
    "print('eggs') <br>\n",
    "if spam > 5: <br>\n",
    "print('bacon') <br>\n",
    "else: <br>\n",
    "print('ham') <br>\n",
    "print('spam') <br>\n",
    "print('spam') <br>\n"
   ]
  },
  {
   "cell_type": "code",
   "execution_count": 14,
   "id": "c562747a",
   "metadata": {},
   "outputs": [
    {
     "name": "stdout",
     "output_type": "stream",
     "text": [
      "ham\n",
      "spam\n",
      "spam\n"
     ]
    }
   ],
   "source": [
    "# Answer:\n",
    "    \n",
    "#Block1:\n",
    "spam = 0\n",
    "if spam == 10:\n",
    "    print('eggs')\n",
    "    \n",
    "#Block2:\n",
    "if spam > 5:\n",
    "    print('bacon')\n",
    "else:\n",
    "    print('ham')\n",
    "    \n",
    "#Block3:\n",
    "print('spam')\n",
    "print('spam')"
   ]
  },
  {
   "cell_type": "markdown",
   "id": "a3f6c0c8",
   "metadata": {},
   "source": [
    "# Question 8"
   ]
  },
  {
   "cell_type": "markdown",
   "id": "7d5abe6d",
   "metadata": {},
   "source": [
    "Write code that prints Hello if 1 is stored in spam, prints Howdy if 2 is stored in spam, and prints Greetings! if anything else is stored in spam."
   ]
  },
  {
   "cell_type": "code",
   "execution_count": 29,
   "id": "b3b4eb2b",
   "metadata": {},
   "outputs": [
    {
     "name": "stdout",
     "output_type": "stream",
     "text": [
      "Enter the number3\n",
      "Greetings!\n"
     ]
    }
   ],
   "source": [
    "spam = int(input(\"Enter the number\"))\n",
    "if spam == 1:\n",
    "    print(\"Hello\")\n",
    "elif spam == 2:\n",
    "    print(\"Howdy\")\n",
    "else:\n",
    "    print(\"Greetings!\")"
   ]
  },
  {
   "cell_type": "markdown",
   "id": "880e7bc1",
   "metadata": {},
   "source": [
    "# Question 9"
   ]
  },
  {
   "cell_type": "markdown",
   "id": "147d7ddb",
   "metadata": {},
   "source": [
    "If your programme is stuck in an endless loop, what keys you’ll press?"
   ]
  },
  {
   "cell_type": "markdown",
   "id": "17a8b78b",
   "metadata": {},
   "source": [
    "Answer:\n",
    "\n",
    "ctrl-c in usual cases. <br>\n",
    "In jupyter notebook, can consider interupt option under the kernel"
   ]
  },
  {
   "cell_type": "markdown",
   "id": "fe280233",
   "metadata": {},
   "source": [
    "# Question 10"
   ]
  },
  {
   "cell_type": "markdown",
   "id": "53bdc372",
   "metadata": {},
   "source": [
    "How can you tell the difference between break and continue?"
   ]
  },
  {
   "cell_type": "markdown",
   "id": "4a22a9f4",
   "metadata": {},
   "source": [
    "Answer: \n",
    "\n",
    "break : It breaks the execution of the loop when the condition is true. <br>\n",
    "continue: It stops the execution of the iteration for which the condition is true and then continue to execute the remaining iterations of the loop.\n",
    "    \n"
   ]
  },
  {
   "cell_type": "markdown",
   "id": "5d2bc34e",
   "metadata": {},
   "source": [
    "# Question 11"
   ]
  },
  {
   "cell_type": "markdown",
   "id": "9e009326",
   "metadata": {},
   "source": [
    "In a for loop, what is the difference between range(10), range(0, 10), and range(0, 10, 1)?"
   ]
  },
  {
   "cell_type": "markdown",
   "id": "b9627f59",
   "metadata": {},
   "source": [
    "Answer:\n",
    "\n",
    "range() function is used to generate sequence of number. It has 3 arguments start(default 0), stop and step(default 1, which increment the range value by 1). <br>\n",
    "range(10) - In this, start argument defaults to 0 and step argument defaults to 1. Stop value would be 9(10-1). <br>\n",
    "range(0,10) - In this, start argument is 0 and stop argument is 9(10-1). Step value defaults to 1. <br>\n",
    "range(0,10,1) - In this, start argument is 0, stop argument is 9(10-1) and step value is 1. <br>\n",
    "\n",
    "In short, all three range argument produces the same sequence of numbers.\n"
   ]
  },
  {
   "cell_type": "markdown",
   "id": "dbf6fa4b",
   "metadata": {},
   "source": [
    "# Question 12"
   ]
  },
  {
   "cell_type": "markdown",
   "id": "f3663035",
   "metadata": {},
   "source": [
    "Write a short program that prints the numbers 1 to 10 using a for loop. Then write an equivalent program that prints the numbers 1 to 10 using a while loop."
   ]
  },
  {
   "cell_type": "code",
   "execution_count": 3,
   "id": "f783ddeb",
   "metadata": {},
   "outputs": [
    {
     "name": "stdout",
     "output_type": "stream",
     "text": [
      "1\n",
      "2\n",
      "3\n",
      "4\n",
      "5\n",
      "6\n",
      "7\n",
      "8\n",
      "9\n",
      "10\n"
     ]
    }
   ],
   "source": [
    "for i in range(0,10):\n",
    "    print(i+1)"
   ]
  },
  {
   "cell_type": "code",
   "execution_count": 4,
   "id": "f04aa272",
   "metadata": {},
   "outputs": [
    {
     "name": "stdout",
     "output_type": "stream",
     "text": [
      "1\n",
      "2\n",
      "3\n",
      "4\n",
      "5\n",
      "6\n",
      "7\n",
      "8\n",
      "9\n",
      "10\n"
     ]
    }
   ],
   "source": [
    "i=0\n",
    "while i<10:\n",
    "    print(i+1)\n",
    "    i+=1"
   ]
  },
  {
   "cell_type": "markdown",
   "id": "a294d4f9",
   "metadata": {},
   "source": [
    "# Question 13"
   ]
  },
  {
   "cell_type": "markdown",
   "id": "fb7781f0",
   "metadata": {},
   "source": [
    "If you had a function named bacon() inside a module named spam, how would you call it after importing spam?"
   ]
  },
  {
   "cell_type": "code",
   "execution_count": 6,
   "id": "e70faf3c",
   "metadata": {},
   "outputs": [],
   "source": [
    "# import spam - to import the package named spam\n",
    "# spam.bacon() - to call the function named bacon() withing the spam package\n"
   ]
  },
  {
   "cell_type": "code",
   "execution_count": null,
   "id": "d6ccb01b",
   "metadata": {},
   "outputs": [],
   "source": []
  }
 ],
 "metadata": {
  "kernelspec": {
   "display_name": "Python 3 (ipykernel)",
   "language": "python",
   "name": "python3"
  },
  "language_info": {
   "codemirror_mode": {
    "name": "ipython",
    "version": 3
   },
   "file_extension": ".py",
   "mimetype": "text/x-python",
   "name": "python",
   "nbconvert_exporter": "python",
   "pygments_lexer": "ipython3",
   "version": "3.10.9"
  }
 },
 "nbformat": 4,
 "nbformat_minor": 5
}

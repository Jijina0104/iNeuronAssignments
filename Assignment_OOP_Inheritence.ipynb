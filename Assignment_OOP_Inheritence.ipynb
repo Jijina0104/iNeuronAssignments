{
 "cells": [
  {
   "cell_type": "markdown",
   "id": "5e9c21be",
   "metadata": {},
   "source": [
    "## Assignments\n",
    "\n",
    "1. the `Person` class has a constructor that takes `name` and `age` as arguments and assigns them to the object's attributes. The `introduce` method is then invoked on the object to introduce the person.\n",
    "\n",
    "2. the `Car` class has a constructor that takes `brand` and `model` as arguments and assigns them to the object's attributes. The `display_info` method is then invoked on the object to display the car's brand and model.\n",
    "\n",
    "3. the `BankAccount` class has a constructor that takes `account_number` and `balance` as arguments and assigns them to the object's attributes. The `display_balance` method is then invoked on the object to display the account number and balance.\n",
    "\n",
    "4.  the `MobilePhone` class has a constructor that takes `brand` and `model` as arguments and assigns them to the object's attributes. The `make_call` method is then invoked on the object to make a call with the phone.\n",
    "\n",
    "5. the `Book` class has a constructor that takes `title` and `author` as arguments and assigns them to the object's attributes. The `display_info` method is then invoked on the object to display the book's title and author.\n",
    "\n",
    "6. Vehicles: Create a base class called Vehicle with attributes such as make, model, and year. Implement two subclasses Car and Motorcycle that inherit from Vehicle. Add additional methods to the subclasses, such as start_engine() and stop_engine(), and handle any specific behavior or rules for each vehicle type.\n",
    "\n",
    "7. Animals: Create a base class called Animal with methods such as eat() and sleep(). Implement two subclasses Dog and Cat that inherit from Animal. Add additional methods to the subclasses, such as bark() for dogs and meow() for cats, and handle any specific behavior or rules for each animal type.\n",
    "\n",
    "8. Library Catalog: Create a base class called LibraryItem with attributes such as title, author, and publication_year. Implement two subclasses Book and Magazine that inherit from LibraryItem. Add additional methods to the subclasses, such as checkout() and return_item(), and handle any specific behavior or rules for each item type.\n",
    "\n",
    "9. Employees and Departments: Create a base class called Employee with attributes such as name, salary, and department. Implement two subclasses Manager and Staff that inherit from Employee. Add additional methods to the subclasses, such as assign_task() for managers and attend_meeting() for staff members. Create a separate class called Department that contains a list of employees and methods to add or remove employees from the department.\n",
    "\n",
    "10. Bank Transactions: Create a base class called BankAccount with attributes such as account_number and balance. Implement subclasses for different types of accounts such as CheckingAccount and SavingsAccount that inherit from BankAccount. Add additional methods to the subclasses, such as withdraw() and deposit(), and handle any specific behavior or rules for each account type.\n",
    "\n",
    "11. School Management System: Create a base class called Person with attributes such as name, age, and address. Implement subclasses for different roles such as Student, Teacher, and Staff that inherit from Person. Add additional methods to the subclasses, such as take_exam() for students and teach_subject() for teachers."
   ]
  },
  {
   "cell_type": "markdown",
   "id": "77df215e",
   "metadata": {},
   "source": [
    "7. Animals: Create a base class called Animal with methods such as eat() and sleep(). Implement two subclasses Dog and Cat that inherit from Animal. Add additional methods to the subclasses, such as bark() for dogs and meow() for cats, and handle any specific behavior or rules for each animal type."
   ]
  },
  {
   "cell_type": "code",
   "execution_count": 2,
   "id": "3e0ae4e6",
   "metadata": {},
   "outputs": [
    {
     "name": "stdout",
     "output_type": "stream",
     "text": [
      "dog says woof!!! \n",
      "dog is eating.\n",
      "dog slept after eating.\n",
      "cat says Meow !!! \n",
      "cat is eating.\n",
      "cat slept after eating.\n"
     ]
    }
   ],
   "source": [
    "class Animal:\n",
    "    def __init__(self,animal):\n",
    "        self.animal=animal\n",
    "    def eat(self):\n",
    "        print(f\"{self.animal} is eating.\")\n",
    "    def sleep(self):\n",
    "        print(f\"{self.animal} slept after eating.\")\n",
    "class Dog(Animal):\n",
    "    def __init__(self,animal,sound):\n",
    "        super().__init__(animal)\n",
    "        self.sound=sound\n",
    "    def bark(self):\n",
    "        print(f\"{self.animal} says woof!!! \")\n",
    "        super().eat()\n",
    "        super().sleep()\n",
    "class Cat(Animal):\n",
    "    def __init__(self,animal,sound):\n",
    "        super().__init__(animal)\n",
    "        self.sound=sound\n",
    "    def meow(self):\n",
    "        print(f\"{self.animal} says Meow !!! \")\n",
    "        super().eat()\n",
    "        super().sleep()\n",
    "\n",
    "Animal1 = Dog(\"dog\",\"bark\")\n",
    "Animal1.bark()\n",
    "\n",
    "Animal2 = Cat(\"cat\",\"meow\")\n",
    "Animal2.meow()"
   ]
  },
  {
   "cell_type": "code",
   "execution_count": null,
   "id": "8a4bc050",
   "metadata": {},
   "outputs": [],
   "source": []
  }
 ],
 "metadata": {
  "kernelspec": {
   "display_name": "Python 3 (ipykernel)",
   "language": "python",
   "name": "python3"
  },
  "language_info": {
   "codemirror_mode": {
    "name": "ipython",
    "version": 3
   },
   "file_extension": ".py",
   "mimetype": "text/x-python",
   "name": "python",
   "nbconvert_exporter": "python",
   "pygments_lexer": "ipython3",
   "version": "3.10.9"
  }
 },
 "nbformat": 4,
 "nbformat_minor": 5
}

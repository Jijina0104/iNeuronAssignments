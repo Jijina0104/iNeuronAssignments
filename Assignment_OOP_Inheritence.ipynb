{
 "cells": [
  {
   "cell_type": "markdown",
   "id": "5e9c21be",
   "metadata": {},
   "source": [
    "## Assignments\n",
    "\n",
    "1. the `Person` class has a constructor that takes `name` and `age` as arguments and assigns them to the object's attributes. The `introduce` method is then invoked on the object to introduce the person.\n",
    "\n",
    "2. the `Car` class has a constructor that takes `brand` and `model` as arguments and assigns them to the object's attributes. The `display_info` method is then invoked on the object to display the car's brand and model.\n",
    "\n",
    "3. the `BankAccount` class has a constructor that takes `account_number` and `balance` as arguments and assigns them to the object's attributes. The `display_balance` method is then invoked on the object to display the account number and balance.\n",
    "\n",
    "4.  the `MobilePhone` class has a constructor that takes `brand` and `model` as arguments and assigns them to the object's attributes. The `make_call` method is then invoked on the object to make a call with the phone.\n",
    "\n",
    "5. the `Book` class has a constructor that takes `title` and `author` as arguments and assigns them to the object's attributes. The `display_info` method is then invoked on the object to display the book's title and author.\n",
    "\n",
    "6. Vehicles: Create a base class called Vehicle with attributes such as make, model, and year. Implement two subclasses Car and Motorcycle that inherit from Vehicle. Add additional methods to the subclasses, such as start_engine() and stop_engine(), and handle any specific behavior or rules for each vehicle type.\n",
    "\n",
    "7. Animals: Create a base class called Animal with methods such as eat() and sleep(). Implement two subclasses Dog and Cat that inherit from Animal. Add additional methods to the subclasses, such as bark() for dogs and meow() for cats, and handle any specific behavior or rules for each animal type.\n",
    "\n",
    "8. Library Catalog: Create a base class called LibraryItem with attributes such as title, author, and publication_year. Implement two subclasses Book and Magazine that inherit from LibraryItem. Add additional methods to the subclasses, such as checkout() and return_item(), and handle any specific behavior or rules for each item type.\n",
    "\n",
    "9. Employees and Departments: Create a base class called Employee with attributes such as name, salary, and department. Implement two subclasses Manager and Staff that inherit from Employee. Add additional methods to the subclasses, such as assign_task() for managers and attend_meeting() for staff members. Create a separate class called Department that contains a list of employees and methods to add or remove employees from the department.\n",
    "\n",
    "10. Bank Transactions: Create a base class called BankAccount with attributes such as account_number and balance. Implement subclasses for different types of accounts such as CheckingAccount and SavingsAccount that inherit from BankAccount. Add additional methods to the subclasses, such as withdraw() and deposit(), and handle any specific behavior or rules for each account type.\n",
    "\n",
    "11. School Management System: Create a base class called Person with attributes such as name, age, and address. Implement subclasses for different roles such as Student, Teacher, and Staff that inherit from Person. Add additional methods to the subclasses, such as take_exam() for students and teach_subject() for teachers."
   ]
  },
  {
   "cell_type": "markdown",
   "id": "80f7c03c",
   "metadata": {},
   "source": [
    "# Question 1"
   ]
  },
  {
   "cell_type": "markdown",
   "id": "797a8713",
   "metadata": {},
   "source": [
    "1. the Person class has a constructor that takes name and age as arguments and assigns them to the object's attributes. The introduce method is then invoked on the object to introduce the person."
   ]
  },
  {
   "cell_type": "code",
   "execution_count": 2,
   "id": "09586bc9",
   "metadata": {},
   "outputs": [
    {
     "name": "stdout",
     "output_type": "stream",
     "text": [
      "Hello Angel, Your age as on today is 33 \n"
     ]
    }
   ],
   "source": [
    "class Person():\n",
    "    def __init__(self, name, age):\n",
    "        self.name=name\n",
    "        self.age=age\n",
    "    def introduce(self):\n",
    "        print(f\"Hello {self.name}, Your age as on today is {self.age} \")\n",
    "person = Person(\"Angel\", 33)\n",
    "person.introduce()"
   ]
  },
  {
   "cell_type": "markdown",
   "id": "d18bf790",
   "metadata": {},
   "source": [
    "# Question 2"
   ]
  },
  {
   "cell_type": "markdown",
   "id": "e68a7f9d",
   "metadata": {},
   "source": [
    "2. the Car class has a constructor that takes brand and model as arguments and assigns them to the object's attributes. The display_info method is then invoked on the object to display the car's brand and model."
   ]
  },
  {
   "cell_type": "code",
   "execution_count": 3,
   "id": "9afc14f3",
   "metadata": {},
   "outputs": [
    {
     "name": "stdout",
     "output_type": "stream",
     "text": [
      "My new car brand is Tesla and the model is S\n"
     ]
    }
   ],
   "source": [
    "class Car():\n",
    "    def __init__(self, brand, model):\n",
    "        self.brand=brand\n",
    "        self.model=model\n",
    "    def display_info(self):\n",
    "        print(f\"My new car brand is {self.brand} and the model is {self.model}\")\n",
    "car = Car(\"Tesla\", \"S\")\n",
    "car.display_info()"
   ]
  },
  {
   "cell_type": "markdown",
   "id": "67839dcd",
   "metadata": {},
   "source": [
    "# Question 3"
   ]
  },
  {
   "cell_type": "markdown",
   "id": "1de7324e",
   "metadata": {},
   "source": [
    "3. the BankAccount class has a constructor that takes account_number and balance as arguments and assigns them to the object's attributes. The display_balance method is then invoked on the object to display the account number and balance."
   ]
  },
  {
   "cell_type": "code",
   "execution_count": 6,
   "id": "b95389c0",
   "metadata": {},
   "outputs": [
    {
     "name": "stdout",
     "output_type": "stream",
     "text": [
      "The account balance of this account 146264924 is $250000\n"
     ]
    }
   ],
   "source": [
    "class BankAccount():\n",
    "    def __init__(self, account_number, balance):\n",
    "        self.account_number=account_number\n",
    "        self.balance=balance\n",
    "    def display_balance(self):\n",
    "        print(f\"The account balance of this account {self.account_number} is ${self.balance}\")\n",
    "account = BankAccount(146264924, 250000)\n",
    "account.display_balance()"
   ]
  },
  {
   "cell_type": "markdown",
   "id": "d9053549",
   "metadata": {},
   "source": [
    "# Question 4"
   ]
  },
  {
   "cell_type": "markdown",
   "id": "4b419caf",
   "metadata": {},
   "source": [
    "4. the MobilePhone class has a constructor that takes brand and model as arguments and assigns them to the object's attributes. The make_call method is then invoked on the object to make a call with the phone."
   ]
  },
  {
   "cell_type": "code",
   "execution_count": 7,
   "id": "5f79618a",
   "metadata": {},
   "outputs": [
    {
     "name": "stdout",
     "output_type": "stream",
     "text": [
      "Make a call to the mobile with brand iPhone and model 14 Pro\n"
     ]
    }
   ],
   "source": [
    "class MobilePhone():\n",
    "    def __init__(self, brand, model):\n",
    "        self.brand=brand\n",
    "        self.model=model\n",
    "    def make_call(self):\n",
    "        print(f\"Make a call to the mobile with brand {self.brand} and model {self.model}\")\n",
    "mobile = MobilePhone(\"iPhone\", \"14 Pro\")\n",
    "mobile.make_call()"
   ]
  },
  {
   "cell_type": "markdown",
   "id": "bdac16b7",
   "metadata": {},
   "source": [
    "# Question 5"
   ]
  },
  {
   "cell_type": "markdown",
   "id": "2f62c5f0",
   "metadata": {},
   "source": [
    "5. the Book class has a constructor that takes title and author as arguments and assigns them to the object's attributes. The display_info method is then invoked on the object to display the book's title and author."
   ]
  },
  {
   "cell_type": "code",
   "execution_count": 12,
   "id": "40c53102",
   "metadata": {},
   "outputs": [
    {
     "name": "stdout",
     "output_type": "stream",
     "text": [
      "The famous autobiography 'Wings of Fire' was written by Dr. APJ Abdul Kalam\n"
     ]
    }
   ],
   "source": [
    "class Book:\n",
    "    def __init__(self, title, author):\n",
    "        self.title=title\n",
    "        self.author=author\n",
    "    def display_info(self):\n",
    "        print(f\"The famous autobiography '{self.title}' was written by {self.author}\")\n",
    "book = Book(\"Wings of Fire\", \"Dr. APJ Abdul Kalam\")\n",
    "book.display_info()"
   ]
  },
  {
   "cell_type": "markdown",
   "id": "68f19a93",
   "metadata": {},
   "source": [
    "# Question 6"
   ]
  },
  {
   "cell_type": "markdown",
   "id": "6e7d8019",
   "metadata": {},
   "source": [
    "6. Vehicles: Create a base class called Vehicle with attributes such as make, model, and year. Implement two subclasses Car and Motorcycle that inherit from Vehicle. Add additional methods to the subclasses, such as start_engine() and stop_engine(), and handle any specific behavior or rules for each vehicle type."
   ]
  },
  {
   "cell_type": "code",
   "execution_count": 20,
   "id": "067f7983",
   "metadata": {},
   "outputs": [
    {
     "name": "stdout",
     "output_type": "stream",
     "text": [
      "The car Tesla, Y, of year 2020 is starting \n",
      "The car Tesla, Y, of year 2020 is stopping \n",
      "The Motocycle BMW, F 900 R, of year 2020 is starting \n",
      "The Motorcycle BMW, F 900 R, of year 2020 is stopping \n"
     ]
    }
   ],
   "source": [
    "class Vehicle():\n",
    "    def __init__(self, make, model, year):\n",
    "        self.make=make\n",
    "        self.model=model\n",
    "        self.year=year\n",
    "class Car(Vehicle):\n",
    "    def __init__(self, make, model, year):\n",
    "        super().__init__(make, model, year)\n",
    "    def start_engine(self):\n",
    "        print(f\"The car {self.make}, {self.model}, of year {self.year} is starting \")\n",
    "    def stop_engine(self):\n",
    "        print(f\"The car {self.make}, {self.model}, of year {self.year} is stopping \")\n",
    "class Motorcycle(Vehicle):\n",
    "    def __init__(self, make, model, year):\n",
    "        super().__init__(make, model, year)\n",
    "    def start_engine(self):\n",
    "        print(f\"The Motocycle {self.make}, {self.model}, of year {self.year} is starting \")\n",
    "    def stop_engine(self):\n",
    "        print(f\"The Motorcycle {self.make}, {self.model}, of year {self.year} is stopping \")    \n",
    "\n",
    "car = Car(\"Tesla\", \"Y\", 2020)\n",
    "car.start_engine()\n",
    "car.stop_engine()\n",
    "\n",
    "mcycle = Motorcycle(\"BMW\", \"F 900 R\", 2020)\n",
    "mcycle.start_engine()\n",
    "mcycle.stop_engine()\n",
    "            "
   ]
  },
  {
   "cell_type": "markdown",
   "id": "3bd596bc",
   "metadata": {},
   "source": [
    "# Question 7"
   ]
  },
  {
   "cell_type": "markdown",
   "id": "77df215e",
   "metadata": {},
   "source": [
    "7. Animals: Create a base class called Animal with methods such as eat() and sleep(). Implement two subclasses Dog and Cat that inherit from Animal. Add additional methods to the subclasses, such as bark() for dogs and meow() for cats, and handle any specific behavior or rules for each animal type."
   ]
  },
  {
   "cell_type": "code",
   "execution_count": 21,
   "id": "3e0ae4e6",
   "metadata": {},
   "outputs": [
    {
     "name": "stdout",
     "output_type": "stream",
     "text": [
      "dog says woof!!! \n",
      "dog is eating.\n",
      "dog slept after eating.\n",
      "cat says Meow !!! \n",
      "cat is eating.\n",
      "cat slept after eating.\n"
     ]
    }
   ],
   "source": [
    "class Animal:\n",
    "    def __init__(self,animal):\n",
    "        self.animal=animal\n",
    "    def eat(self):\n",
    "        print(f\"{self.animal} is eating.\")\n",
    "    def sleep(self):\n",
    "        print(f\"{self.animal} slept after eating.\")\n",
    "class Dog(Animal):\n",
    "    def __init__(self,animal,sound):\n",
    "        super().__init__(animal)\n",
    "        self.sound=sound\n",
    "    def bark(self):\n",
    "        print(f\"{self.animal} says woof!!! \")\n",
    "        super().eat()\n",
    "        super().sleep()\n",
    "class Cat(Animal):\n",
    "    def __init__(self,animal,sound):\n",
    "        super().__init__(animal)\n",
    "        self.sound=sound\n",
    "    def meow(self):\n",
    "        print(f\"{self.animal} says Meow !!! \")\n",
    "        super().eat()\n",
    "        super().sleep()\n",
    "\n",
    "Animal1 = Dog(\"dog\",\"bark\")\n",
    "Animal1.bark()\n",
    "\n",
    "Animal2 = Cat(\"cat\",\"meow\")\n",
    "Animal2.meow()"
   ]
  },
  {
   "cell_type": "markdown",
   "id": "20806aad",
   "metadata": {},
   "source": [
    "# Question 8"
   ]
  },
  {
   "cell_type": "markdown",
   "id": "22288045",
   "metadata": {},
   "source": [
    "8. Library Catalog: Create a base class called LibraryItem with attributes such as title, author, and publication_year. Implement two subclasses Book and Magazine that inherit from LibraryItem. Add additional methods to the subclasses, such as checkout() and return_item(), and handle any specific behavior or rules for each item type."
   ]
  },
  {
   "cell_type": "code",
   "execution_count": 100,
   "id": "080979e1",
   "metadata": {},
   "outputs": [
    {
     "name": "stdout",
     "output_type": "stream",
     "text": [
      "User1\n",
      "Checkout of the book titled 'Wings of Fire' is 2023-07-07\n",
      "Author of the book is Dr. APJ Abdul Kalam, published in year 1999\n",
      "Book has to be returned by 2023-07-21\n",
      "User2\n",
      "The book has been checked out\n",
      "Book has to be returned by 2023-07-21\n",
      "User3\n",
      "The book has been checked out\n",
      "Book has been checked out and is due for return\n"
     ]
    }
   ],
   "source": [
    "from datetime import date,datetime,timedelta\n",
    "date1 = date.today()\n",
    "date2 = date(2023, 7, 15)\n",
    "date3 = date(2023, 7, 24)\n",
    "returndate = date.today() + timedelta(days=14) \n",
    "\n",
    "class LibraryItem():\n",
    "    def __init__(self, title, author, publication_year):\n",
    "        self.title = title\n",
    "        self.author = author\n",
    "        self.publication_year = publication_year\n",
    "class Book(LibraryItem):\n",
    "    def __init__(self, title, author, publication_year, date ):\n",
    "        super().__init__(title, author, publication_year)\n",
    "        self.date=date\n",
    "    def checkout(self):\n",
    "        if self.date == date.today():\n",
    "            print(f\"Checkout of the book titled '{self.title}' is {self.date}\")\n",
    "            print(f\"Author of the book is {self.author}, published in year {self.publication_year}\")\n",
    "        else:\n",
    "            print(f\"The book has been checked out\")\n",
    "    def return_item(self):\n",
    "        if (self.date < returndate) and (self.date >= date1):\n",
    "            print(\"Book has to be returned by\", returndate)\n",
    "        else:\n",
    "            print(\"Book has been checked out and is due for return\")\n",
    "print(\"User1\")\n",
    "book1 = Book(\"Wings of Fire\", \"Dr. APJ Abdul Kalam\", 1999, date1)\n",
    "book1.checkout()\n",
    "book1.return_item()\n",
    "\n",
    "print(\"User2\")\n",
    "book2 = Book(\"Wings of Fire\", \"Dr. APJ Abdul Kalam\", 1999, date2)\n",
    "book2.checkout()\n",
    "book2.return_item()\n",
    "\n",
    "print(\"User3\")\n",
    "book3 = Book(\"Wings of Fire\", \"Dr. APJ Abdul Kalam\", 1999, date3)\n",
    "book3.checkout()\n",
    "book3.return_item()           "
   ]
  },
  {
   "cell_type": "code",
   "execution_count": 85,
   "id": "bc8a956a",
   "metadata": {},
   "outputs": [
    {
     "data": {
      "text/plain": [
       "['__class__',\n",
       " '__delattr__',\n",
       " '__delete__',\n",
       " '__dir__',\n",
       " '__doc__',\n",
       " '__eq__',\n",
       " '__format__',\n",
       " '__ge__',\n",
       " '__get__',\n",
       " '__getattribute__',\n",
       " '__gt__',\n",
       " '__hash__',\n",
       " '__init__',\n",
       " '__init_subclass__',\n",
       " '__le__',\n",
       " '__lt__',\n",
       " '__name__',\n",
       " '__ne__',\n",
       " '__new__',\n",
       " '__objclass__',\n",
       " '__qualname__',\n",
       " '__reduce__',\n",
       " '__reduce_ex__',\n",
       " '__repr__',\n",
       " '__set__',\n",
       " '__setattr__',\n",
       " '__sizeof__',\n",
       " '__str__',\n",
       " '__subclasshook__']"
      ]
     },
     "execution_count": 85,
     "metadata": {},
     "output_type": "execute_result"
    }
   ],
   "source": [
    "from datetime import date\n",
    "dir(date.day)"
   ]
  },
  {
   "cell_type": "code",
   "execution_count": 75,
   "id": "459e60cb",
   "metadata": {},
   "outputs": [
    {
     "data": {
      "text/plain": [
       "<attribute 'day' of 'datetime.date' objects>"
      ]
     },
     "execution_count": 75,
     "metadata": {},
     "output_type": "execute_result"
    }
   ],
   "source": [
    "dir(date.day)\n",
    "date.day"
   ]
  },
  {
   "cell_type": "code",
   "execution_count": null,
   "id": "8f52f69c",
   "metadata": {},
   "outputs": [],
   "source": []
  }
 ],
 "metadata": {
  "kernelspec": {
   "display_name": "Python 3 (ipykernel)",
   "language": "python",
   "name": "python3"
  },
  "language_info": {
   "codemirror_mode": {
    "name": "ipython",
    "version": 3
   },
   "file_extension": ".py",
   "mimetype": "text/x-python",
   "name": "python",
   "nbconvert_exporter": "python",
   "pygments_lexer": "ipython3",
   "version": "3.10.9"
  }
 },
 "nbformat": 4,
 "nbformat_minor": 5
}
